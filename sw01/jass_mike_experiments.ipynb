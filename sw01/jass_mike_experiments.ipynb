{
 "cells": [
  {
   "cell_type": "markdown",
   "id": "4e81b25c",
   "metadata": {},
   "source": [
    "# DL4G - Jass Introduction\n",
    "\n",
    "In this exercise we will look at some properties of the jass kit environment that can be used to develop your own jass agent.\n",
    "\n",
    "You will need to have numpy installed, as well as the jass-kit environment."
   ]
  },
  {
   "cell_type": "code",
   "execution_count": 101,
   "id": "0d71e284",
   "metadata": {},
   "outputs": [],
   "source": [
    "from jass.game.game_util import *\n",
    "from jass.game.game_sim import GameSim\n",
    "from jass.game.game_observation import GameObservation\n",
    "from jass.game.const import *\n",
    "from jass.game.rule_schieber import RuleSchieber\n",
    "from jass.agents.agent import Agent\n",
    "from jass.agents.agent_random_schieber import AgentRandomSchieber\n",
    "from jass.arena.arena import Arena\n",
    "\n",
    "import json\n",
    "\n",
    "import pickle\n",
    "\n",
    "import numpy as np\n",
    "import pandas as pd\n",
    "import matplotlib.pyplot as plt\n",
    " # import seaborn as sns\n",
    "\n",
    "from sklearn.preprocessing import StandardScaler\n",
    "\n",
    "from sklearn.metrics import mean_squared_error\n",
    "from sklearn.metrics import mean_absolute_error\n",
    "from sklearn.metrics import r2_score\n",
    "\n",
    "from sklearn.model_selection import train_test_split\n",
    "from sklearn.model_selection import GridSearchCV\n",
    "\n",
    "from sklearn.pipeline import Pipeline\n",
    "\n",
    "from sklearn.dummy import DummyRegressor\n",
    "from sklearn.neighbors import KNeighborsRegressor\n",
    "\n",
    "from sklearn.model_selection import KFold\n",
    "\n",
    "from tqdm.notebook import tqdm\n",
    "import ipywidgets as widgets\n",
    "%matplotlib inline\n"
   ]
  },
  {
   "cell_type": "markdown",
   "id": "9d510b9e",
   "metadata": {},
   "source": [
    "Information about the cards is stored as one-hot encoded arrays, there are several tools available to access the information in the cards. \n",
    "\n",
    "Lets deal some random cards first."
   ]
  },
  {
   "cell_type": "code",
   "execution_count": 102,
   "id": "19767850",
   "metadata": {},
   "outputs": [
    {
     "name": "stdout",
     "output_type": "stream",
     "text": [
      "(4, 36)\n",
      "[0 0 0 1 0 0 0 0 0 0 0 0 0 0 0 0 0 1 0 1 0 1 0 1 0 0 0 0 1 1 1 0 0 0 1 0]\n"
     ]
    }
   ],
   "source": [
    "# Lets set the seed of the random number generater, so that we get the same results\n",
    "np.random.seed(1)\n",
    "\n",
    "# This distributes the cards randomly among the 4 players.\n",
    "hands = deal_random_hand()\n",
    "print(hands.shape)\n",
    "print(hands[0])"
   ]
  },
  {
   "cell_type": "code",
   "execution_count": 103,
   "id": "dcd87887",
   "metadata": {},
   "outputs": [
    {
     "name": "stdout",
     "output_type": "stream",
     "text": [
      "[0 0 0 1 0 0 0 0 0 0 0 0 0 0 0 0 0 1 0 1 0 1 0 1 0 0 0 0 1 1 1 0 0 0 1 0]\n"
     ]
    }
   ],
   "source": [
    "# There is an entry for each player, to access the cards of the first player\n",
    "cards = hands[0,:]\n",
    "print(cards)"
   ]
  },
  {
   "cell_type": "code",
   "execution_count": 104,
   "id": "486c3664",
   "metadata": {},
   "outputs": [
    {
     "name": "stdout",
     "output_type": "stream",
     "text": [
      "['DJ', 'H6', 'SK', 'SJ', 'S9', 'CK', 'CQ', 'CJ', 'C7']\n",
      "[3, 17, 19, 21, 23, 28, 29, 30, 34]\n"
     ]
    }
   ],
   "source": [
    "# This should be 9 cards\n",
    "assert(cards.sum() == 9)\n",
    "\n",
    "# The cards can be converted to other formats for easier reading or processing\n",
    "print(convert_one_hot_encoded_cards_to_str_encoded_list(cards))\n",
    "\n",
    "# Each card is encoded as a value between 0 and 35.\n",
    "print(convert_one_hot_encoded_cards_to_int_encoded_list(cards))\n"
   ]
  },
  {
   "cell_type": "code",
   "execution_count": 105,
   "id": "89294107",
   "metadata": {},
   "outputs": [
    {
     "name": "stdout",
     "output_type": "stream",
     "text": [
      "[1 1 3 4]\n"
     ]
    }
   ],
   "source": [
    "# There is a method to count colors too\n",
    "colors = count_colors(cards)\n",
    "print(colors)"
   ]
  },
  {
   "cell_type": "markdown",
   "id": "04f591d7",
   "metadata": {},
   "source": [
    "There is a common jass \"rule\" to select trump, when you have the \"Puur\" (Jack of trump) and 3 or more other cards of the same color. \n",
    "\n",
    "Task 1: Write a function that returns an array of 4 values that contains a 1 for each color that fulfills the rule or 0 otherwise, i.e. [0 0 0 0] is returned, if you do not have any color with Jack and 3 other cards.\n"
   ]
  },
  {
   "cell_type": "code",
   "execution_count": 106,
   "id": "92845f51",
   "metadata": {},
   "outputs": [],
   "source": [
    "def havePuurWithFour(hand: np.ndarray) -> np.ndarray:\n",
    "    encoded = convert_one_hot_encoded_cards_to_str_encoded_list(hand)\n",
    "    result = np.zeros(4, dtype=int)\n",
    "    colorIds = ['D','H','S','C']\n",
    "    # D H S C\n",
    "    # J ---> wenn jo denn farbe 4\n",
    "    colors = count_colors(hand)\n",
    "    for i, color in enumerate (colors):\n",
    "        if color >=  4:\n",
    "            if colorIds[i] + 'J' in encoded:\n",
    "                result[i] = 1\n",
    "\n",
    "    print(f\"dhsc:{result}\")\n",
    "    return result\n",
    "        "
   ]
  },
  {
   "cell_type": "code",
   "execution_count": 107,
   "id": "b1bb875a",
   "metadata": {},
   "outputs": [
    {
     "name": "stdout",
     "output_type": "stream",
     "text": [
      "dhsc:[0 0 0 1]\n",
      "dhsc:[0 0 0 0]\n"
     ]
    }
   ],
   "source": [
    "assert (havePuurWithFour(cards) == [0, 0, 0, 1]).all()\n",
    "cards_2 = hands[1,:]\n",
    "assert (havePuurWithFour(cards_2) == [0, 0, 0, 0]).all()"
   ]
  },
  {
   "cell_type": "markdown",
   "id": "48371ec4",
   "metadata": {},
   "source": [
    "Another possibility to select trump is by assigning a value to each card, depending on whether the color is trump or not. This table is from the Maturawork of Daniel Graf from 2009: \"Jassen auf Basis der Spieltheorie\"."
   ]
  },
  {
   "cell_type": "code",
   "execution_count": 108,
   "id": "01b078f3",
   "metadata": {},
   "outputs": [],
   "source": [
    "# Score for each card of a color from Ace to 6\n",
    "\n",
    "# score if the color is trump\n",
    "trump_score = [15, 10, 7, 25, 6, 19, 5, 5, 5]\n",
    "# score if the color is not trump\n",
    "no_trump_score = [9, 7, 5, 2, 1, 0, 0, 0, 0]\n",
    "# score if obenabe is selected (all colors)\n",
    "obenabe_score = [14, 10, 8, 7, 5, 0, 5, 0, 0,]\n",
    "# score if uneufe is selected (all colors)\n",
    "uneufe_score = [0, 2, 1, 1, 5, 5, 7, 9, 11]"
   ]
  },
  {
   "cell_type": "markdown",
   "id": "ddd00b63",
   "metadata": {},
   "source": [
    "Task 2: Implement a function that evaluates a hand that is given as a list of 9 cards and with a given trump value and returns a score depending on the table above. For example the score of our hand ['DJ', 'H6', 'SK', 'SJ', 'S9', 'CK', 'CQ', 'CJ', 'C7'] when Club is trump should be:\n",
    "\n",
    "2 + 0 + 7 + 2 + 0 + 10 + 7 + 25 + 5 = 58\n",
    "\n",
    "while the score is 70 if Spade is selected, which is better as you have both the jack and the nine.\n",
    "\n",
    "You can use the arrays offset_of_card and color_of_card to get the offset (Ace, King, etc.) and color of a card."
   ]
  },
  {
   "cell_type": "code",
   "execution_count": 109,
   "id": "63297245",
   "metadata": {},
   "outputs": [],
   "source": [
    "def calculate_trump_selection_score(cards, trump: int) -> int:\n",
    "    result = 0\n",
    "    for card in cards:\n",
    "        color = color_of_card[card]\n",
    "        offset = offset_of_card[card]\n",
    "        if color == trump:\n",
    "            result += trump_score[offset]\n",
    "        else:\n",
    "            result += no_trump_score[offset]\n",
    "    return result"
   ]
  },
  {
   "cell_type": "code",
   "execution_count": 110,
   "id": "ec64add8",
   "metadata": {},
   "outputs": [
    {
     "name": "stdout",
     "output_type": "stream",
     "text": [
      "[3, 17, 19, 21, 23, 28, 29, 30, 34]\n"
     ]
    }
   ],
   "source": [
    "card_list = convert_one_hot_encoded_cards_to_int_encoded_list(cards)\n",
    "print(card_list)"
   ]
  },
  {
   "cell_type": "code",
   "execution_count": 111,
   "id": "0ae55a9d",
   "metadata": {},
   "outputs": [],
   "source": [
    "\n",
    "card_list = convert_one_hot_encoded_cards_to_int_encoded_list(cards)\n",
    "assert calculate_trump_selection_score(card_list, CLUBS) == 58\n",
    "assert calculate_trump_selection_score(card_list, SPADES) == 70"
   ]
  },
  {
   "cell_type": "markdown",
   "id": "4ec0d316",
   "metadata": {},
   "source": [
    "## Agents\n",
    "\n",
    "In order to play a game you have to program an agent that decides on the action. For that you have to override the methods action_trump and action_play_card.\n",
    "\n",
    "Task 3: Use the function implemented above to select the best trump value. If the calculated trump value is below a threshold (for example let us take 68, as suggested in the work by Daniel Graf) you should \"Schiebe\", i.e. pass to your partner if you are still allowed to do that.\n",
    "\n",
    "The game observation allows you to access the information about your card, and if you are the first or second player to select trump.\n",
    "\n",
    "For playing a card, we just take a random action."
   ]
  },
  {
   "cell_type": "code",
   "execution_count": 242,
   "id": "2c8a0c7e",
   "metadata": {},
   "outputs": [],
   "source": [
    "class MyAgent(Agent):\n",
    "    def __init__(self):\n",
    "        super().__init__()\n",
    "        # we need a rule object to determine the valid cards\n",
    "        self._rule = RuleSchieber()\n",
    "        \n",
    "    def action_trump(self, obs: GameObservation) -> int:\n",
    "        \"\"\"\n",
    "        Determine trump action for the given observation\n",
    "        Args:\n",
    "            obs: the game observation, it must be in a state for trump selection\n",
    "\n",
    "        Returns:\n",
    "            selected trump as encoded in jass.game.const or jass.game.const.PUSH\n",
    "        \"\"\"\n",
    "\n",
    "        valid_cards = self._rule.get_valid_cards_from_obs(obs)\n",
    "        card_list = convert_one_hot_encoded_cards_to_int_encoded_list(valid_cards)\n",
    "        best_score = 0\n",
    "        best_color = -1\n",
    "        for color in trump_ints:\n",
    "            score = calculate_trump_selection_score(card_list, color)\n",
    "            if best_score < score:\n",
    "                best_score = score\n",
    "                best_color = color\n",
    "\n",
    "        if best_score < 68 and obs.declared_trump < 0:\n",
    "            return PUSH\n",
    "        return best_color\n",
    "        \n",
    "\n",
    "    def action_play_card(self, obs: GameObservation) -> int:\n",
    "        \"\"\"\n",
    "        Determine the card to play.\n",
    "\n",
    "        Args:\n",
    "            obs: the game observation\n",
    "\n",
    "        Returns:\n",
    "            the card to play, int encoded as defined in jass.game.const\n",
    "        \"\"\"\n",
    "        valid_cards = self._rule.get_valid_cards_from_obs(obs)\n",
    "        \n",
    "        print(valid_cards)\n",
    "        encoded_cards = convert_one_hot_encoded_cards_to_int_encoded_list(valid_cards)\n",
    "        if len(encoded_cards) == 4: \n",
    "            xIn =  { \"points\":1, \"card1\":encoded_cards[0], \"card2\":encoded_cards[1], \"card3\":encoded_cards[2], \"card4\":encoded_cards[3],\"first\": obs.forehand, \"trump\":obs.trump}\n",
    "\n",
    "            print(xIn[\"points\"])\n",
    "            #points\twin\tfirst\tcard1\tcard2\tcard3\tcard4\ttrump\n",
    "            loaded_scaler = pickle.load(open(\"D:\\hslul\\DL4G\\DL4G-HSLU\\sw01\\scaler_file\", 'rb'))\n",
    "\n",
    "            #scaler.transform([[4,1,10,4,45,1,1]])\n",
    "            #'card1','card2','card3','card4', 'points', 'first', 'trump'\n",
    "            numberInput = [xIn[\"card1\"],xIn[\"card2\"],xIn[\"card3\"],xIn[\"card4\"], xIn[\"points\"], xIn[\"first\"], xIn[\"trump\"] ]\n",
    "            print(numberInput);\n",
    "            normalizedInput = loaded_scaler.transform([numberInput])\n",
    "            loaded_model = pickle.load(open(\"D:\\hslul\\DL4G\\DL4G-HSLU\\sw01\\knnpickle_file\", 'rb'))\n",
    "            result = loaded_model.predict(normalizedInput)\n",
    "            print(result)\n",
    "        else:\n",
    "            print(\"Not start round\")\n",
    "        \n",
    "        \n",
    "\n",
    "\n",
    "        # we use the global random number generator here\n",
    "        return np.random.choice(np.flatnonzero(valid_cards))"
   ]
  },
  {
   "cell_type": "markdown",
   "id": "1f5b305a",
   "metadata": {},
   "source": [
    "We can use the game simulation to play a game. We will use that to test our implementation, and then use the arena class to play against other agents"
   ]
  },
  {
   "cell_type": "code",
   "execution_count": 243,
   "id": "91df4f83",
   "metadata": {},
   "outputs": [],
   "source": [
    "rule = RuleSchieber()\n",
    "game = GameSim(rule=rule)\n",
    "agent = MyAgent()\n",
    "\n",
    "np.random.seed(1)\n",
    "game.init_from_cards(hands=deal_random_hand(), dealer=NORTH)"
   ]
  },
  {
   "cell_type": "code",
   "execution_count": 244,
   "id": "1f177a07",
   "metadata": {},
   "outputs": [],
   "source": [
    "obs = game.get_observation()"
   ]
  },
  {
   "cell_type": "code",
   "execution_count": 245,
   "id": "768c5cce",
   "metadata": {},
   "outputs": [
    {
     "name": "stdout",
     "output_type": "stream",
     "text": [
      "['DA', 'DK', 'D9', 'D6', 'HA', 'HQ', 'HJ', 'H8', 'H7']\n"
     ]
    }
   ],
   "source": [
    "cards = convert_one_hot_encoded_cards_to_str_encoded_list(obs.hand)\n",
    "print(cards)\n",
    "trump = agent.action_trump(obs)\n",
    "assert trump == HEARTS"
   ]
  },
  {
   "cell_type": "code",
   "execution_count": 246,
   "id": "9ccc8b9e",
   "metadata": {},
   "outputs": [],
   "source": [
    "# tell the simulation the selected trump\n",
    "game.action_trump(trump)"
   ]
  },
  {
   "cell_type": "code",
   "execution_count": 247,
   "id": "eb8c2956",
   "metadata": {},
   "outputs": [
    {
     "name": "stdout",
     "output_type": "stream",
     "text": [
      "[1 1 0 0 0 1 0 0 1 1 0 1 1 0 0 1 1 0 0 0 0 0 0 0 0 0 0 0 0 0 0 0 0 0 0 0]\n"
     ]
    },
    {
     "ename": "AttributeError",
     "evalue": "'list' object has no attribute 'length'",
     "output_type": "error",
     "traceback": [
      "\u001b[1;31m---------------------------------------------------------------------------\u001b[0m",
      "\u001b[1;31mAttributeError\u001b[0m                            Traceback (most recent call last)",
      "Cell \u001b[1;32mIn [247], line 3\u001b[0m\n\u001b[0;32m      1\u001b[0m \u001b[39m# play the game to the end and print the result\u001b[39;00m\n\u001b[0;32m      2\u001b[0m \u001b[39mwhile\u001b[39;00m \u001b[39mnot\u001b[39;00m game\u001b[39m.\u001b[39mis_done():\n\u001b[1;32m----> 3\u001b[0m     game\u001b[39m.\u001b[39maction_play_card(agent\u001b[39m.\u001b[39;49maction_play_card(game\u001b[39m.\u001b[39;49mget_observation()))\n\u001b[0;32m      5\u001b[0m \u001b[39mprint\u001b[39m(game\u001b[39m.\u001b[39mstate\u001b[39m.\u001b[39mpoints)\n",
      "Cell \u001b[1;32mIn [242], line 46\u001b[0m, in \u001b[0;36mMyAgent.action_play_card\u001b[1;34m(self, obs)\u001b[0m\n\u001b[0;32m     44\u001b[0m \u001b[39mprint\u001b[39m(valid_cards)\n\u001b[0;32m     45\u001b[0m encoded_cards \u001b[39m=\u001b[39m convert_one_hot_encoded_cards_to_int_encoded_list(valid_cards)\n\u001b[1;32m---> 46\u001b[0m \u001b[39mif\u001b[39;00m \u001b[39mlen\u001b[39m(encoded_cards\u001b[39m.\u001b[39;49mlength) \u001b[39m==\u001b[39m \u001b[39m4\u001b[39m: \n\u001b[0;32m     47\u001b[0m     xIn \u001b[39m=\u001b[39m  { \u001b[39m\"\u001b[39m\u001b[39mpoints\u001b[39m\u001b[39m\"\u001b[39m:\u001b[39m1\u001b[39m, \u001b[39m\"\u001b[39m\u001b[39mcard1\u001b[39m\u001b[39m\"\u001b[39m:encoded_cards[\u001b[39m0\u001b[39m], \u001b[39m\"\u001b[39m\u001b[39mcard2\u001b[39m\u001b[39m\"\u001b[39m:encoded_cards[\u001b[39m1\u001b[39m], \u001b[39m\"\u001b[39m\u001b[39mcard3\u001b[39m\u001b[39m\"\u001b[39m:encoded_cards[\u001b[39m2\u001b[39m], \u001b[39m\"\u001b[39m\u001b[39mcard4\u001b[39m\u001b[39m\"\u001b[39m:encoded_cards[\u001b[39m3\u001b[39m],\u001b[39m\"\u001b[39m\u001b[39mfirst\u001b[39m\u001b[39m\"\u001b[39m: obs\u001b[39m.\u001b[39mforehand, \u001b[39m\"\u001b[39m\u001b[39mtrump\u001b[39m\u001b[39m\"\u001b[39m:obs\u001b[39m.\u001b[39mtrump}\n\u001b[0;32m     49\u001b[0m     \u001b[39mprint\u001b[39m(xIn[\u001b[39m\"\u001b[39m\u001b[39mpoints\u001b[39m\u001b[39m\"\u001b[39m])\n",
      "\u001b[1;31mAttributeError\u001b[0m: 'list' object has no attribute 'length'"
     ]
    }
   ],
   "source": [
    "# play the game to the end and print the result\n",
    "while not game.is_done():\n",
    "    game.action_play_card(agent.action_play_card(game.get_observation()))\n",
    "\n",
    "print(game.state.points)"
   ]
  },
  {
   "cell_type": "markdown",
   "id": "b33d069e",
   "metadata": {},
   "source": [
    "Another possibility to test agents locally is to use the arena. Let us play 100 games against the Random Agent and see if our trump methods makes any difference.\n"
   ]
  },
  {
   "cell_type": "code",
   "execution_count": 40,
   "id": "07c99989",
   "metadata": {},
   "outputs": [],
   "source": [
    "arena = Arena(nr_games_to_play=100)\n",
    "arena.set_players(MyAgent(), AgentRandomSchieber(), MyAgent(), AgentRandomSchieber())"
   ]
  },
  {
   "cell_type": "code",
   "execution_count": 41,
   "id": "ba8464b5",
   "metadata": {},
   "outputs": [
    {
     "name": "stdout",
     "output_type": "stream",
     "text": [
      "[........................................]  100/ 100 games played\n"
     ]
    }
   ],
   "source": [
    "arena.play_all_games()"
   ]
  },
  {
   "cell_type": "code",
   "execution_count": 14,
   "id": "05179929",
   "metadata": {},
   "outputs": [
    {
     "name": "stdout",
     "output_type": "stream",
     "text": [
      "75.0 82.0\n"
     ]
    }
   ],
   "source": [
    "print(arena.points_team_0.sum(), arena.points_team_1.sum())"
   ]
  },
  {
   "cell_type": "markdown",
   "id": "5c6fc55d",
   "metadata": {},
   "source": [
    "Test Bot:"
   ]
  },
  {
   "cell_type": "code",
   "execution_count": 43,
   "id": "fd6a3063",
   "metadata": {},
   "outputs": [],
   "source": [
    "import numpy as np\n",
    "import pandas as pd\n",
    "import matplotlib.pyplot as plt\n",
    " # import seaborn as sns\n",
    "\n",
    "from sklearn.preprocessing import StandardScaler\n",
    "\n",
    "from sklearn.metrics import mean_squared_error\n",
    "from sklearn.metrics import mean_absolute_error\n",
    "from sklearn.metrics import r2_score\n",
    "\n",
    "from sklearn.model_selection import train_test_split\n",
    "from sklearn.model_selection import GridSearchCV\n",
    "\n",
    "from sklearn.pipeline import Pipeline\n",
    "\n",
    "from sklearn.dummy import DummyRegressor\n",
    "from sklearn.neighbors import KNeighborsRegressor\n",
    "\n",
    "from sklearn.model_selection import KFold\n",
    "\n",
    "from tqdm.notebook import tqdm\n",
    "import ipywidgets as widgets\n",
    "%matplotlib inline\n",
    "\n",
    "from jass.game.game_util import *\n",
    "from jass.game.game_sim import GameSim\n",
    "from jass.game.game_observation import GameObservation\n",
    "from jass.game.const import *\n",
    "from jass.game.rule_schieber import RuleSchieber\n",
    "from jass.agents.agent import Agent\n",
    "from jass.agents.agent_random_schieber import AgentRandomSchieber\n",
    "from jass.arena.arena import Arena"
   ]
  },
  {
   "cell_type": "markdown",
   "id": "26d42911",
   "metadata": {},
   "source": [
    "read data"
   ]
  },
  {
   "cell_type": "code",
   "execution_count": 44,
   "id": "c3a01557",
   "metadata": {},
   "outputs": [],
   "source": [
    "df = pd.read_json(\"F:\\jass_game_0001.txt\", lines=True)"
   ]
  },
  {
   "cell_type": "code",
   "execution_count": 47,
   "id": "c2b18e8b",
   "metadata": {},
   "outputs": [
    {
     "name": "stdout",
     "output_type": "stream",
     "text": [
      "0        {'version': 'V0.2', 'trump': 1, 'dealer': 2, '...\n",
      "1        {'version': 'V0.2', 'trump': 1, 'dealer': 0, '...\n",
      "2        {'version': 'V0.2', 'trump': 3, 'dealer': 1, '...\n",
      "3        {'version': 'V0.2', 'trump': 2, 'dealer': 3, '...\n",
      "4        {'version': 'V0.2', 'trump': 1, 'dealer': 1, '...\n",
      "                               ...                        \n",
      "99995    {'version': 'V0.2', 'trump': 1, 'dealer': 3, '...\n",
      "99996    {'version': 'V0.2', 'trump': 3, 'dealer': 3, '...\n",
      "99997    {'version': 'V0.2', 'trump': 3, 'dealer': 2, '...\n",
      "99998    {'version': 'V0.2', 'trump': 2, 'dealer': 1, '...\n",
      "99999    {'version': 'V0.2', 'trump': 2, 'dealer': 2, '...\n",
      "Name: game, Length: 100000, dtype: object\n",
      "0        [{'cards': ['HA', 'H9', 'H10', 'D10'], 'points...\n",
      "1        [{'cards': ['H8', 'H9', 'HQ', 'H10'], 'points'...\n",
      "2        [{'cards': ['CA', 'CJ', 'C7', 'D10'], 'points'...\n",
      "3        [{'cards': ['S10', 'SQ', 'S9', 'S6'], 'points'...\n",
      "4        [{'cards': ['HA', 'HJ', 'H6', 'H8'], 'points':...\n",
      "                               ...                        \n",
      "99995    [{'cards': ['H8', 'S6', 'HK', 'HQ'], 'points':...\n",
      "99996    [{'cards': ['C9', 'C7', 'C6', 'CQ'], 'points':...\n",
      "99997    [{'cards': ['CK', 'C8', 'C9', 'C6'], 'points':...\n",
      "99998    [{'cards': ['S9', 'S7', 'SQ', 'SK'], 'points':...\n",
      "99999    [{'cards': ['S9', 'S8', 'SK', 'S10'], 'points'...\n",
      "Name: tricks, Length: 100000, dtype: object\n",
      "  version  trump  dealer  currentPlayer  forehand  \\\n",
      "1    V0.2      1       0             -1         0   \n",
      "\n",
      "                                              tricks  \\\n",
      "1  [{'cards': ['H8', 'H9', 'HQ', 'H10'], 'points'...   \n",
      "\n",
      "                                              player   jassTyp  \n",
      "1  [{'hand': []}, {'hand': []}, {'hand': []}, {'h...  SCHIEBER  \n"
     ]
    }
   ],
   "source": [
    "df.shape\n",
    "first_column = df.iloc[:, 0]\n",
    "print(first_column)\n",
    "dfItem = pd.DataFrame.from_records(first_column)\n",
    "print(dfItem.tricks)\n",
    "df.head(n=5)\n",
    "dfItem.head(n=5)\n",
    "\n",
    "#print(dfItem)\n",
    "items = pd.DataFrame.from_records(dfItem);\n",
    "#df.loc[:, numerical_cols]\n",
    "print(items.iloc[[1]])"
   ]
  },
  {
   "cell_type": "markdown",
   "id": "2df8bda2",
   "metadata": {},
   "source": [
    "prepare data"
   ]
  },
  {
   "cell_type": "code",
   "execution_count": 48,
   "id": "d123b01d",
   "metadata": {},
   "outputs": [
    {
     "name": "stdout",
     "output_type": "stream",
     "text": [
      "DONE\n"
     ]
    }
   ],
   "source": [
    "tricks = pd.DataFrame.from_records(dfItem.tricks);\n",
    "#tricks.head()\n",
    "# df.loc[:, numerical_cols]\n",
    "\n",
    "values = []\n",
    "\n",
    "for i in range(tricks.shape[0]): #iterate over rows\n",
    "    headerInfo = items.iloc[[i]]\n",
    "    for j in range(tricks.shape[1]): #iterate over columns\n",
    "        value = tricks.at[i, j] #get cell value\n",
    "       # print(value[\"cards\"])\n",
    "       # print(convert_str_encoded_cards_to_int_encoded(value[\"cards\"]))\n",
    "        value[\"cards\"] = convert_str_encoded_cards_to_int_encoded(value[\"cards\"])\n",
    "\n",
    "        value[\"card1\"] = value[\"cards\"][0]\n",
    "        value[\"card2\"] = value[\"cards\"][1]\n",
    "        value[\"card3\"] = value[\"cards\"][2]\n",
    "        value[\"card4\"] = value[\"cards\"][3]\n",
    "        #print(headerInfo.trump.astype(int).array[0])\n",
    "        value[\"trump\"] = headerInfo.trump.astype(int).array[0]\n",
    "        values.append(value);\n",
    "        #print(value, end=\"\\t\")\n",
    "    #print()\n",
    "#print(tricks[0][0])\n",
    "print(\"DONE\");"
   ]
  },
  {
   "cell_type": "markdown",
   "id": "1f459b86",
   "metadata": {},
   "source": [
    "convert to dataframe"
   ]
  },
  {
   "cell_type": "code",
   "execution_count": 49,
   "id": "1706c457",
   "metadata": {},
   "outputs": [
    {
     "data": {
      "text/html": [
       "<div>\n",
       "<style scoped>\n",
       "    .dataframe tbody tr th:only-of-type {\n",
       "        vertical-align: middle;\n",
       "    }\n",
       "\n",
       "    .dataframe tbody tr th {\n",
       "        vertical-align: top;\n",
       "    }\n",
       "\n",
       "    .dataframe thead th {\n",
       "        text-align: right;\n",
       "    }\n",
       "</style>\n",
       "<table border=\"1\" class=\"dataframe\">\n",
       "  <thead>\n",
       "    <tr style=\"text-align: right;\">\n",
       "      <th></th>\n",
       "      <th>cards</th>\n",
       "      <th>points</th>\n",
       "      <th>win</th>\n",
       "      <th>first</th>\n",
       "      <th>card1</th>\n",
       "      <th>card2</th>\n",
       "      <th>card3</th>\n",
       "      <th>card4</th>\n",
       "      <th>trump</th>\n",
       "    </tr>\n",
       "  </thead>\n",
       "  <tbody>\n",
       "    <tr>\n",
       "      <th>0</th>\n",
       "      <td>[9, 14, 13, 4]</td>\n",
       "      <td>45</td>\n",
       "      <td>0</td>\n",
       "      <td>1</td>\n",
       "      <td>9</td>\n",
       "      <td>14</td>\n",
       "      <td>13</td>\n",
       "      <td>4</td>\n",
       "      <td>1</td>\n",
       "    </tr>\n",
       "    <tr>\n",
       "      <th>1</th>\n",
       "      <td>[30, 27, 34, 31]</td>\n",
       "      <td>23</td>\n",
       "      <td>3</td>\n",
       "      <td>0</td>\n",
       "      <td>30</td>\n",
       "      <td>27</td>\n",
       "      <td>34</td>\n",
       "      <td>31</td>\n",
       "      <td>1</td>\n",
       "    </tr>\n",
       "    <tr>\n",
       "      <th>2</th>\n",
       "      <td>[26, 22, 20, 23]</td>\n",
       "      <td>13</td>\n",
       "      <td>1</td>\n",
       "      <td>3</td>\n",
       "      <td>26</td>\n",
       "      <td>22</td>\n",
       "      <td>20</td>\n",
       "      <td>23</td>\n",
       "      <td>1</td>\n",
       "    </tr>\n",
       "    <tr>\n",
       "      <th>3</th>\n",
       "      <td>[18, 35, 16, 25]</td>\n",
       "      <td>11</td>\n",
       "      <td>3</td>\n",
       "      <td>1</td>\n",
       "      <td>18</td>\n",
       "      <td>35</td>\n",
       "      <td>16</td>\n",
       "      <td>25</td>\n",
       "      <td>1</td>\n",
       "    </tr>\n",
       "    <tr>\n",
       "      <th>4</th>\n",
       "      <td>[19, 21, 24, 33]</td>\n",
       "      <td>6</td>\n",
       "      <td>3</td>\n",
       "      <td>3</td>\n",
       "      <td>19</td>\n",
       "      <td>21</td>\n",
       "      <td>24</td>\n",
       "      <td>33</td>\n",
       "      <td>1</td>\n",
       "    </tr>\n",
       "  </tbody>\n",
       "</table>\n",
       "</div>"
      ],
      "text/plain": [
       "              cards  points  win  first  card1  card2  card3  card4  trump\n",
       "0    [9, 14, 13, 4]      45    0      1      9     14     13      4      1\n",
       "1  [30, 27, 34, 31]      23    3      0     30     27     34     31      1\n",
       "2  [26, 22, 20, 23]      13    1      3     26     22     20     23      1\n",
       "3  [18, 35, 16, 25]      11    3      1     18     35     16     25      1\n",
       "4  [19, 21, 24, 33]       6    3      3     19     21     24     33      1"
      ]
     },
     "execution_count": 49,
     "metadata": {},
     "output_type": "execute_result"
    }
   ],
   "source": [
    "dfValues = pd.DataFrame.from_records(values)\n",
    "dfValues.head(5)"
   ]
  },
  {
   "cell_type": "markdown",
   "id": "4e0fc996",
   "metadata": {},
   "source": [
    "define features"
   ]
  },
  {
   "cell_type": "code",
   "execution_count": 50,
   "id": "73318084",
   "metadata": {},
   "outputs": [
    {
     "name": "stdout",
     "output_type": "stream",
     "text": [
      "[[ 9 14 13 ... 45  1  1]\n",
      " [30 27 34 ... 23  0  1]\n",
      " [26 22 20 ... 13  3  1]\n",
      " ...\n",
      " [29 30 33 ... 16  3  2]\n",
      " [ 7  5  0 ... 13  0  2]\n",
      " [31 28  1 ... 23  2  2]]\n"
     ]
    }
   ],
   "source": [
    "feature_columns = ['card1','card2','card3','card4', 'points', 'first', 'trump']\n",
    "#dfValues.drop(\"cards\")\n",
    "\n",
    "X = dfValues[feature_columns].values\n",
    "print(X)\n",
    "# We convert it to float so we don't get a conversion warning when normalizing the data\n",
    "X = X.astype(\"float\") \n",
    "y = dfValues.trump.values"
   ]
  },
  {
   "cell_type": "markdown",
   "id": "b6eaa659",
   "metadata": {},
   "source": [
    "test / train data"
   ]
  },
  {
   "cell_type": "code",
   "execution_count": 51,
   "id": "0db7efb1",
   "metadata": {},
   "outputs": [
    {
     "name": "stdout",
     "output_type": "stream",
     "text": [
      "X_train: (720000, 7)\n",
      "y_train (720000,)\n",
      "X_test: (180000, 7)\n",
      "y_test (180000,)\n"
     ]
    }
   ],
   "source": [
    "X_train, X_test, y_train, y_test = train_test_split(X, y, test_size=0.2, random_state=42)\n",
    "print(\"X_train:\", X_train.shape)\n",
    "print(\"y_train\", y_train.shape)\n",
    "print(\"X_test:\", X_test.shape)\n",
    "print(\"y_test\", y_test.shape)"
   ]
  },
  {
   "cell_type": "markdown",
   "id": "18ab3dfe",
   "metadata": {},
   "source": [
    "KNN default: scaler"
   ]
  },
  {
   "cell_type": "code",
   "execution_count": 181,
   "id": "d836150d",
   "metadata": {},
   "outputs": [
    {
     "name": "stdout",
     "output_type": "stream",
     "text": [
      "Original [-1.37429949 -0.24672624  0.52459337 -1.50360621  0.62781192  1.34179907\n",
      " -1.57238793]\n",
      "Mean per feature: [-2.20299704e-16  1.23181789e-16  2.26424496e-15  4.57124770e-16\n",
      "  5.10014870e-17  5.19131343e-16  1.37877904e-15]\n",
      "Variance per feature [1. 1. 1. 1. 1. 1. 1.]\n"
     ]
    }
   ],
   "source": [
    "print(\"Original\", X_train[0])\n",
    "scaler = StandardScaler()\n",
    "scaler.fit(X_train)\n",
    "X_train = scaler.transform(X_train)\n",
    "\n",
    "# You could also call fit_transform, which calls fit first and then transforms the data.\n",
    "# X_train_scaled = scaler.fit_transform(X_train)\n",
    "\n",
    "X_test = scaler.transform(X_test)\n",
    "print(\"Mean per feature:\", scaler.mean_)\n",
    "print(\"Variance per feature\", scaler.var_)"
   ]
  },
  {
   "cell_type": "markdown",
   "id": "5ad4d720",
   "metadata": {},
   "source": [
    "KNN"
   ]
  },
  {
   "cell_type": "code",
   "execution_count": 53,
   "id": "4180a39d",
   "metadata": {},
   "outputs": [
    {
     "data": {
      "text/html": [
       "<style>#sk-container-id-1 {color: black;background-color: white;}#sk-container-id-1 pre{padding: 0;}#sk-container-id-1 div.sk-toggleable {background-color: white;}#sk-container-id-1 label.sk-toggleable__label {cursor: pointer;display: block;width: 100%;margin-bottom: 0;padding: 0.3em;box-sizing: border-box;text-align: center;}#sk-container-id-1 label.sk-toggleable__label-arrow:before {content: \"▸\";float: left;margin-right: 0.25em;color: #696969;}#sk-container-id-1 label.sk-toggleable__label-arrow:hover:before {color: black;}#sk-container-id-1 div.sk-estimator:hover label.sk-toggleable__label-arrow:before {color: black;}#sk-container-id-1 div.sk-toggleable__content {max-height: 0;max-width: 0;overflow: hidden;text-align: left;background-color: #f0f8ff;}#sk-container-id-1 div.sk-toggleable__content pre {margin: 0.2em;color: black;border-radius: 0.25em;background-color: #f0f8ff;}#sk-container-id-1 input.sk-toggleable__control:checked~div.sk-toggleable__content {max-height: 200px;max-width: 100%;overflow: auto;}#sk-container-id-1 input.sk-toggleable__control:checked~label.sk-toggleable__label-arrow:before {content: \"▾\";}#sk-container-id-1 div.sk-estimator input.sk-toggleable__control:checked~label.sk-toggleable__label {background-color: #d4ebff;}#sk-container-id-1 div.sk-label input.sk-toggleable__control:checked~label.sk-toggleable__label {background-color: #d4ebff;}#sk-container-id-1 input.sk-hidden--visually {border: 0;clip: rect(1px 1px 1px 1px);clip: rect(1px, 1px, 1px, 1px);height: 1px;margin: -1px;overflow: hidden;padding: 0;position: absolute;width: 1px;}#sk-container-id-1 div.sk-estimator {font-family: monospace;background-color: #f0f8ff;border: 1px dotted black;border-radius: 0.25em;box-sizing: border-box;margin-bottom: 0.5em;}#sk-container-id-1 div.sk-estimator:hover {background-color: #d4ebff;}#sk-container-id-1 div.sk-parallel-item::after {content: \"\";width: 100%;border-bottom: 1px solid gray;flex-grow: 1;}#sk-container-id-1 div.sk-label:hover label.sk-toggleable__label {background-color: #d4ebff;}#sk-container-id-1 div.sk-serial::before {content: \"\";position: absolute;border-left: 1px solid gray;box-sizing: border-box;top: 0;bottom: 0;left: 50%;z-index: 0;}#sk-container-id-1 div.sk-serial {display: flex;flex-direction: column;align-items: center;background-color: white;padding-right: 0.2em;padding-left: 0.2em;position: relative;}#sk-container-id-1 div.sk-item {position: relative;z-index: 1;}#sk-container-id-1 div.sk-parallel {display: flex;align-items: stretch;justify-content: center;background-color: white;position: relative;}#sk-container-id-1 div.sk-item::before, #sk-container-id-1 div.sk-parallel-item::before {content: \"\";position: absolute;border-left: 1px solid gray;box-sizing: border-box;top: 0;bottom: 0;left: 50%;z-index: -1;}#sk-container-id-1 div.sk-parallel-item {display: flex;flex-direction: column;z-index: 1;position: relative;background-color: white;}#sk-container-id-1 div.sk-parallel-item:first-child::after {align-self: flex-end;width: 50%;}#sk-container-id-1 div.sk-parallel-item:last-child::after {align-self: flex-start;width: 50%;}#sk-container-id-1 div.sk-parallel-item:only-child::after {width: 0;}#sk-container-id-1 div.sk-dashed-wrapped {border: 1px dashed gray;margin: 0 0.4em 0.5em 0.4em;box-sizing: border-box;padding-bottom: 0.4em;background-color: white;}#sk-container-id-1 div.sk-label label {font-family: monospace;font-weight: bold;display: inline-block;line-height: 1.2em;}#sk-container-id-1 div.sk-label-container {text-align: center;}#sk-container-id-1 div.sk-container {/* jupyter's `normalize.less` sets `[hidden] { display: none; }` but bootstrap.min.css set `[hidden] { display: none !important; }` so we also need the `!important` here to be able to override the default hidden behavior on the sphinx rendered scikit-learn.org. See: https://github.com/scikit-learn/scikit-learn/issues/21755 */display: inline-block !important;position: relative;}#sk-container-id-1 div.sk-text-repr-fallback {display: none;}</style><div id=\"sk-container-id-1\" class=\"sk-top-container\"><div class=\"sk-text-repr-fallback\"><pre>KNeighborsRegressor()</pre><b>In a Jupyter environment, please rerun this cell to show the HTML representation or trust the notebook. <br />On GitHub, the HTML representation is unable to render, please try loading this page with nbviewer.org.</b></div><div class=\"sk-container\" hidden><div class=\"sk-item\"><div class=\"sk-estimator sk-toggleable\"><input class=\"sk-toggleable__control sk-hidden--visually\" id=\"sk-estimator-id-1\" type=\"checkbox\" checked><label for=\"sk-estimator-id-1\" class=\"sk-toggleable__label sk-toggleable__label-arrow\">KNeighborsRegressor</label><div class=\"sk-toggleable__content\"><pre>KNeighborsRegressor()</pre></div></div></div></div></div>"
      ],
      "text/plain": [
       "KNeighborsRegressor()"
      ]
     },
     "execution_count": 53,
     "metadata": {},
     "output_type": "execute_result"
    }
   ],
   "source": [
    "knr = KNeighborsRegressor(n_neighbors=5)\n",
    "knr.fit(X_train, y_train)"
   ]
  },
  {
   "cell_type": "markdown",
   "id": "259dbb84",
   "metadata": {},
   "source": [
    "KNN Prediction"
   ]
  },
  {
   "cell_type": "code",
   "execution_count": 54,
   "id": "36491438",
   "metadata": {},
   "outputs": [
    {
     "name": "stdout",
     "output_type": "stream",
     "text": [
      "MAE: 0.004966666666666667\n",
      "r2: 0.9993904476617756\n"
     ]
    }
   ],
   "source": [
    "y_pred = knr.predict(X_test)\n",
    "y_pred_train = knr.predict(X_train)\n",
    "\n",
    "# analysis\n",
    "mae = mean_absolute_error(y_test, y_pred)\n",
    "r2 = r2_score(y_test, y_pred)\n",
    "print(\"MAE:\", mae)\n",
    "print(\"r2:\", r2)"
   ]
  },
  {
   "cell_type": "code",
   "execution_count": 72,
   "id": "6185c213",
   "metadata": {},
   "outputs": [
    {
     "name": "stdout",
     "output_type": "stream",
     "text": [
      "[[-1.37429949 -0.24672624  0.52459337 ...  0.62781192  1.34179907\n",
      "  -1.57238793]\n",
      " [-0.41396089 -1.11344842 -0.72812377 ... -0.04981279  1.34179907\n",
      "   0.20150893]\n",
      " [-0.89413019 -1.40235581 -1.69175233 ... -0.5015626   1.34179907\n",
      "   0.20150893]\n",
      " ...\n",
      " [-0.02982545 -0.15042378  1.48822193 ... -1.63093712  1.34179907\n",
      "   0.20150893]\n",
      " [ 1.02654701 -0.24672624  0.91004479 ... -0.27568769 -0.44646164\n",
      "  -1.57238793]\n",
      " [-1.18223177 -0.43933117 -1.01721233 ...  0.85368683 -1.34059199\n",
      "  -0.38979002]]\n",
      "[1.]\n",
      "[1.]\n"
     ]
    }
   ],
   "source": [
    "print(X_train)\n",
    "\n",
    "\n",
    "result = knr.predict(scaler.transform([[4,1,10,4,45,1,1]]))\n",
    "print(result)\n",
    "print(result)\n"
   ]
  },
  {
   "cell_type": "code",
   "execution_count": 182,
   "id": "5ed8719b",
   "metadata": {},
   "outputs": [],
   "source": [
    "import pickle \n",
    "\n",
    "# Its important to use binary mode \n",
    "knnPickle = open('knnpickle_file', 'wb') \n",
    "      \n",
    "# source, destination \n",
    "pickle.dump(knr, knnPickle)  \n",
    "\n",
    "# close the file\n",
    "knnPickle.close()\n",
    "\n",
    "# Its important to use binary mode \n",
    "scalerPickle = open('scaler_file', 'wb') \n",
    "      \n",
    "# source, destination \n",
    "pickle.dump(scaler, scalerPickle)  \n",
    "\n",
    "# close the file\n",
    "knnPickle.close()"
   ]
  },
  {
   "cell_type": "markdown",
   "id": "dd500485",
   "metadata": {},
   "source": [
    "Now you can continue with a rule based implemenation of the card play. Also look at the flask implementation of the service to see how you can get your agent online."
   ]
  }
 ],
 "metadata": {
  "kernelspec": {
   "display_name": "Python 3.10.7 64-bit (microsoft store)",
   "language": "python",
   "name": "python3"
  },
  "language_info": {
   "codemirror_mode": {
    "name": "ipython",
    "version": 3
   },
   "file_extension": ".py",
   "mimetype": "text/x-python",
   "name": "python",
   "nbconvert_exporter": "python",
   "pygments_lexer": "ipython3",
   "version": "3.10.8"
  },
  "vscode": {
   "interpreter": {
    "hash": "043e51e691515706f0f88e17bfb4f5f7cb7ae336f14fd72c65cf9ef8543ed0cd"
   }
  }
 },
 "nbformat": 4,
 "nbformat_minor": 5
}
