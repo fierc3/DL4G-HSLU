{
 "cells": [
  {
   "cell_type": "markdown",
   "metadata": {},
   "source": [
    "# Example for a simple neural network\n",
    "\n",
    "## Trump by maximum color (2 colors)\n",
    "\n",
    "The inputs to the network are the number of cards of each color. The network should learn to select the color with the largest number of cards of that color.\n",
    "\n",
    "For a simple example, let us assume that there are 5 cards in total for a player and only 2 colors.\n",
    "\n",
    "### Libraries\n",
    "\n",
    "We use the keras library for building, training and evaluating the network. A tutorial for keras can be found on (https://keras.io/) or https://www.tensorflow.org/guide/keras. There are different implementations of keras, here I will use the one build on tensorflow.\n"
   ]
  },
  {
   "cell_type": "code",
   "execution_count": 2,
   "metadata": {},
   "outputs": [],
   "source": [
    "import numpy as np\n",
    "import tensorflow as tf\n",
    "from tensorflow import keras"
   ]
  },
  {
   "cell_type": "markdown",
   "metadata": {},
   "source": [
    "### Output function\n",
    "\n",
    "We have to encode the output somehow, for two classes, the simplest solution is a single variable that should be 0 if there are more cards of color 0 and 1 if there are more cards of color 1.\n",
    "\n",
    "### Training and label data.\n",
    "\n",
    "So we can prepare some training data. In this simple case, all the possible configurations are actually known.\n"
   ]
  },
  {
   "cell_type": "code",
   "execution_count": 3,
   "metadata": {},
   "outputs": [
    {
     "name": "stdout",
     "output_type": "stream",
     "text": [
      "[[0. 5.]\n",
      " [1. 4.]\n",
      " [2. 3.]\n",
      " [3. 2.]\n",
      " [4. 1.]\n",
      " [5. 0.]]\n",
      "[1. 1. 1. 0. 0. 0.]\n"
     ]
    }
   ],
   "source": [
    "x_train = np.array([\n",
    "    [0, 5],\n",
    "    [1, 4],\n",
    "    [2, 3],\n",
    "    [3, 2],\n",
    "    [4, 1],\n",
    "    [5, 0],\n",
    "], dtype=np.float32)\n",
    "y_train = np.array([1, 1, 1, 0, 0, 0,], dtype=np.float32)\n",
    "print(x_train)\n",
    "print(y_train)"
   ]
  },
  {
   "cell_type": "markdown",
   "metadata": {},
   "source": [
    "### Normalisation\n",
    "\n",
    "Input data can have different ranges. It is always a good idea (in other words absolutely essential) to normalize the input data. This is usually done into the range 0..1 or -1..1"
   ]
  },
  {
   "cell_type": "code",
   "execution_count": 4,
   "metadata": {},
   "outputs": [
    {
     "name": "stdout",
     "output_type": "stream",
     "text": [
      "[[0.  1. ]\n",
      " [0.2 0.8]\n",
      " [0.4 0.6]\n",
      " [0.6 0.4]\n",
      " [0.8 0.2]\n",
      " [1.  0. ]]\n"
     ]
    }
   ],
   "source": [
    "x_train = x_train / 5.0\n",
    "print(x_train)"
   ]
  },
  {
   "cell_type": "markdown",
   "metadata": {},
   "source": [
    "### A first network.\n",
    "\n",
    "We will start with a very simple network, where we connect the inputs directly to the output. So there will be 2 variables, the weights for the connection and the bias. The output function is a sigmoid, which takes values between 0 and 1.\n",
    "\n",
    "With keras, we first have to create the type of model we want (Sequential), and can then add layers. In the tensorflow implementation, we have to add the input_shape parameter in the first layer to tell it the format of the input. This does not include the batch dimension."
   ]
  },
  {
   "cell_type": "code",
   "execution_count": 5,
   "metadata": {},
   "outputs": [],
   "source": [
    "model = keras.Sequential()\n",
    "model.add(keras.layers.Dense(1, activation='sigmoid', input_shape=[2]))"
   ]
  },
  {
   "cell_type": "markdown",
   "metadata": {},
   "source": [
    "Next we have to compile the model and tell it what loss function and optimizer we want to have. We will take a mean squared error for loss function first. (This is actually not optimal and will be corrected in an exercise).\n",
    "\n",
    "Besides the loss, we usually want to look at some metrics. Here we choose accuracy, that measures how often the network makes the correct decision (see last lecture)."
   ]
  },
  {
   "cell_type": "code",
   "execution_count": 6,
   "metadata": {},
   "outputs": [],
   "source": [
    "model.compile(loss='mse',\n",
    "              optimizer='sgd',\n",
    "              metrics=['accuracy'])\n"
   ]
  },
  {
   "cell_type": "markdown",
   "metadata": {},
   "source": [
    "We can print some details about the model."
   ]
  },
  {
   "cell_type": "code",
   "execution_count": 7,
   "metadata": {},
   "outputs": [
    {
     "name": "stdout",
     "output_type": "stream",
     "text": [
      "Model: \"sequential\"\n",
      "_________________________________________________________________\n",
      " Layer (type)                Output Shape              Param #   \n",
      "=================================================================\n",
      " dense (Dense)               (None, 1)                 3         \n",
      "                                                                 \n",
      "=================================================================\n",
      "Total params: 3\n",
      "Trainable params: 3\n",
      "Non-trainable params: 0\n",
      "_________________________________________________________________\n",
      "[array([[ 0.3624332],\n",
      "       [-0.6439745]], dtype=float32), array([0.], dtype=float32)]\n"
     ]
    }
   ],
   "source": [
    "model.summary()\n",
    "print(model.get_weights())"
   ]
  },
  {
   "cell_type": "markdown",
   "metadata": {},
   "source": [
    "We can either train one batch, or we can use fit to train repeatedly. The result from the training is the loss function and the metric."
   ]
  },
  {
   "cell_type": "code",
   "execution_count": 8,
   "metadata": {},
   "outputs": [
    {
     "data": {
      "text/plain": [
       "[0.33230945467948914, 0.1666666716337204]"
      ]
     },
     "execution_count": 8,
     "metadata": {},
     "output_type": "execute_result"
    }
   ],
   "source": [
    "model.train_on_batch(x_train, y_train)"
   ]
  },
  {
   "cell_type": "markdown",
   "metadata": {},
   "source": [
    "We can now try to fit the data in minibatches multiple times. This will calculate the weights, so as to minimize the loss. We might not always get a good result in the first try and even this very simple network seems to need a large number of training steps."
   ]
  },
  {
   "cell_type": "code",
   "execution_count": 9,
   "metadata": {},
   "outputs": [
    {
     "name": "stdout",
     "output_type": "stream",
     "text": [
      "Epoch 1/100\n",
      "1/1 [==============================] - 0s 15ms/step - loss: 0.3322 - accuracy: 0.1667\n",
      "Epoch 2/100\n",
      "1/1 [==============================] - 0s 12ms/step - loss: 0.3320 - accuracy: 0.1667\n",
      "Epoch 3/100\n",
      "1/1 [==============================] - 0s 8ms/step - loss: 0.3319 - accuracy: 0.1667\n",
      "Epoch 4/100\n",
      "1/1 [==============================] - 0s 8ms/step - loss: 0.3317 - accuracy: 0.1667\n",
      "Epoch 5/100\n",
      "1/1 [==============================] - 0s 9ms/step - loss: 0.3316 - accuracy: 0.1667\n",
      "Epoch 6/100\n",
      "1/1 [==============================] - 0s 9ms/step - loss: 0.3314 - accuracy: 0.1667\n",
      "Epoch 7/100\n",
      "1/1 [==============================] - 0s 8ms/step - loss: 0.3313 - accuracy: 0.1667\n",
      "Epoch 8/100\n",
      "1/1 [==============================] - 0s 9ms/step - loss: 0.3311 - accuracy: 0.1667\n",
      "Epoch 9/100\n",
      "1/1 [==============================] - 0s 9ms/step - loss: 0.3310 - accuracy: 0.1667\n",
      "Epoch 10/100\n",
      "1/1 [==============================] - 0s 9ms/step - loss: 0.3308 - accuracy: 0.1667\n",
      "Epoch 11/100\n",
      "1/1 [==============================] - 0s 10ms/step - loss: 0.3307 - accuracy: 0.1667\n",
      "Epoch 12/100\n",
      "1/1 [==============================] - 0s 13ms/step - loss: 0.3306 - accuracy: 0.1667\n",
      "Epoch 13/100\n",
      "1/1 [==============================] - 0s 10ms/step - loss: 0.3304 - accuracy: 0.1667\n",
      "Epoch 14/100\n",
      "1/1 [==============================] - 0s 12ms/step - loss: 0.3303 - accuracy: 0.1667\n",
      "Epoch 15/100\n",
      "1/1 [==============================] - 0s 9ms/step - loss: 0.3301 - accuracy: 0.1667\n",
      "Epoch 16/100\n",
      "1/1 [==============================] - 0s 8ms/step - loss: 0.3300 - accuracy: 0.1667\n",
      "Epoch 17/100\n",
      "1/1 [==============================] - 0s 9ms/step - loss: 0.3298 - accuracy: 0.1667\n",
      "Epoch 18/100\n",
      "1/1 [==============================] - 0s 8ms/step - loss: 0.3297 - accuracy: 0.1667\n",
      "Epoch 19/100\n",
      "1/1 [==============================] - 0s 8ms/step - loss: 0.3295 - accuracy: 0.1667\n",
      "Epoch 20/100\n",
      "1/1 [==============================] - 0s 7ms/step - loss: 0.3294 - accuracy: 0.1667\n",
      "Epoch 21/100\n",
      "1/1 [==============================] - 0s 9ms/step - loss: 0.3292 - accuracy: 0.1667\n",
      "Epoch 22/100\n",
      "1/1 [==============================] - 0s 10ms/step - loss: 0.3291 - accuracy: 0.1667\n",
      "Epoch 23/100\n",
      "1/1 [==============================] - 0s 8ms/step - loss: 0.3290 - accuracy: 0.1667\n",
      "Epoch 24/100\n",
      "1/1 [==============================] - 0s 10ms/step - loss: 0.3288 - accuracy: 0.1667\n",
      "Epoch 25/100\n",
      "1/1 [==============================] - 0s 11ms/step - loss: 0.3287 - accuracy: 0.1667\n",
      "Epoch 26/100\n",
      "1/1 [==============================] - 0s 9ms/step - loss: 0.3285 - accuracy: 0.1667\n",
      "Epoch 27/100\n",
      "1/1 [==============================] - 0s 9ms/step - loss: 0.3284 - accuracy: 0.1667\n",
      "Epoch 28/100\n",
      "1/1 [==============================] - 0s 9ms/step - loss: 0.3282 - accuracy: 0.1667\n",
      "Epoch 29/100\n",
      "1/1 [==============================] - 0s 9ms/step - loss: 0.3281 - accuracy: 0.1667\n",
      "Epoch 30/100\n",
      "1/1 [==============================] - 0s 8ms/step - loss: 0.3279 - accuracy: 0.1667\n",
      "Epoch 31/100\n",
      "1/1 [==============================] - 0s 8ms/step - loss: 0.3278 - accuracy: 0.1667\n",
      "Epoch 32/100\n",
      "1/1 [==============================] - 0s 8ms/step - loss: 0.3276 - accuracy: 0.1667\n",
      "Epoch 33/100\n",
      "1/1 [==============================] - 0s 9ms/step - loss: 0.3275 - accuracy: 0.1667\n",
      "Epoch 34/100\n",
      "1/1 [==============================] - 0s 11ms/step - loss: 0.3274 - accuracy: 0.1667\n",
      "Epoch 35/100\n",
      "1/1 [==============================] - 0s 9ms/step - loss: 0.3272 - accuracy: 0.1667\n",
      "Epoch 36/100\n",
      "1/1 [==============================] - 0s 10ms/step - loss: 0.3271 - accuracy: 0.1667\n",
      "Epoch 37/100\n",
      "1/1 [==============================] - 0s 9ms/step - loss: 0.3269 - accuracy: 0.1667\n",
      "Epoch 38/100\n",
      "1/1 [==============================] - 0s 7ms/step - loss: 0.3268 - accuracy: 0.1667\n",
      "Epoch 39/100\n",
      "1/1 [==============================] - 0s 7ms/step - loss: 0.3266 - accuracy: 0.1667\n",
      "Epoch 40/100\n",
      "1/1 [==============================] - 0s 8ms/step - loss: 0.3265 - accuracy: 0.1667\n",
      "Epoch 41/100\n",
      "1/1 [==============================] - 0s 9ms/step - loss: 0.3263 - accuracy: 0.1667\n",
      "Epoch 42/100\n",
      "1/1 [==============================] - 0s 9ms/step - loss: 0.3262 - accuracy: 0.1667\n",
      "Epoch 43/100\n",
      "1/1 [==============================] - 0s 9ms/step - loss: 0.3260 - accuracy: 0.1667\n",
      "Epoch 44/100\n",
      "1/1 [==============================] - 0s 8ms/step - loss: 0.3259 - accuracy: 0.1667\n",
      "Epoch 45/100\n",
      "1/1 [==============================] - 0s 9ms/step - loss: 0.3258 - accuracy: 0.1667\n",
      "Epoch 46/100\n",
      "1/1 [==============================] - 0s 9ms/step - loss: 0.3256 - accuracy: 0.1667\n",
      "Epoch 47/100\n",
      "1/1 [==============================] - 0s 9ms/step - loss: 0.3255 - accuracy: 0.1667\n",
      "Epoch 48/100\n",
      "1/1 [==============================] - 0s 7ms/step - loss: 0.3253 - accuracy: 0.1667\n",
      "Epoch 49/100\n",
      "1/1 [==============================] - 0s 9ms/step - loss: 0.3252 - accuracy: 0.1667\n",
      "Epoch 50/100\n",
      "1/1 [==============================] - 0s 8ms/step - loss: 0.3250 - accuracy: 0.1667\n",
      "Epoch 51/100\n",
      "1/1 [==============================] - 0s 7ms/step - loss: 0.3249 - accuracy: 0.1667\n",
      "Epoch 52/100\n",
      "1/1 [==============================] - 0s 9ms/step - loss: 0.3247 - accuracy: 0.1667\n",
      "Epoch 53/100\n",
      "1/1 [==============================] - 0s 9ms/step - loss: 0.3246 - accuracy: 0.1667\n",
      "Epoch 54/100\n",
      "1/1 [==============================] - 0s 8ms/step - loss: 0.3245 - accuracy: 0.1667\n",
      "Epoch 55/100\n",
      "1/1 [==============================] - 0s 9ms/step - loss: 0.3243 - accuracy: 0.1667\n",
      "Epoch 56/100\n",
      "1/1 [==============================] - 0s 12ms/step - loss: 0.3242 - accuracy: 0.1667\n",
      "Epoch 57/100\n",
      "1/1 [==============================] - 0s 15ms/step - loss: 0.3240 - accuracy: 0.1667\n",
      "Epoch 58/100\n",
      "1/1 [==============================] - 0s 19ms/step - loss: 0.3239 - accuracy: 0.1667\n",
      "Epoch 59/100\n",
      "1/1 [==============================] - 0s 8ms/step - loss: 0.3237 - accuracy: 0.1667\n",
      "Epoch 60/100\n",
      "1/1 [==============================] - 0s 7ms/step - loss: 0.3236 - accuracy: 0.1667\n",
      "Epoch 61/100\n",
      "1/1 [==============================] - 0s 6ms/step - loss: 0.3234 - accuracy: 0.1667\n",
      "Epoch 62/100\n",
      "1/1 [==============================] - 0s 7ms/step - loss: 0.3233 - accuracy: 0.1667\n",
      "Epoch 63/100\n",
      "1/1 [==============================] - 0s 8ms/step - loss: 0.3232 - accuracy: 0.1667\n",
      "Epoch 64/100\n",
      "1/1 [==============================] - 0s 7ms/step - loss: 0.3230 - accuracy: 0.1667\n",
      "Epoch 65/100\n",
      "1/1 [==============================] - 0s 8ms/step - loss: 0.3229 - accuracy: 0.1667\n",
      "Epoch 66/100\n",
      "1/1 [==============================] - 0s 8ms/step - loss: 0.3227 - accuracy: 0.1667\n",
      "Epoch 67/100\n",
      "1/1 [==============================] - 0s 7ms/step - loss: 0.3226 - accuracy: 0.1667\n",
      "Epoch 68/100\n",
      "1/1 [==============================] - 0s 9ms/step - loss: 0.3224 - accuracy: 0.1667\n",
      "Epoch 69/100\n",
      "1/1 [==============================] - 0s 7ms/step - loss: 0.3223 - accuracy: 0.1667\n",
      "Epoch 70/100\n",
      "1/1 [==============================] - 0s 8ms/step - loss: 0.3221 - accuracy: 0.1667\n",
      "Epoch 71/100\n",
      "1/1 [==============================] - 0s 8ms/step - loss: 0.3220 - accuracy: 0.1667\n",
      "Epoch 72/100\n",
      "1/1 [==============================] - 0s 7ms/step - loss: 0.3219 - accuracy: 0.1667\n",
      "Epoch 73/100\n",
      "1/1 [==============================] - 0s 10ms/step - loss: 0.3217 - accuracy: 0.1667\n",
      "Epoch 74/100\n",
      "1/1 [==============================] - 0s 8ms/step - loss: 0.3216 - accuracy: 0.1667\n",
      "Epoch 75/100\n",
      "1/1 [==============================] - 0s 7ms/step - loss: 0.3214 - accuracy: 0.1667\n",
      "Epoch 76/100\n",
      "1/1 [==============================] - 0s 7ms/step - loss: 0.3213 - accuracy: 0.1667\n",
      "Epoch 77/100\n",
      "1/1 [==============================] - 0s 6ms/step - loss: 0.3211 - accuracy: 0.1667\n",
      "Epoch 78/100\n",
      "1/1 [==============================] - 0s 8ms/step - loss: 0.3210 - accuracy: 0.1667\n",
      "Epoch 79/100\n",
      "1/1 [==============================] - 0s 12ms/step - loss: 0.3208 - accuracy: 0.1667\n",
      "Epoch 80/100\n",
      "1/1 [==============================] - 0s 8ms/step - loss: 0.3207 - accuracy: 0.1667\n",
      "Epoch 81/100\n",
      "1/1 [==============================] - 0s 8ms/step - loss: 0.3206 - accuracy: 0.1667\n",
      "Epoch 82/100\n",
      "1/1 [==============================] - 0s 9ms/step - loss: 0.3204 - accuracy: 0.1667\n",
      "Epoch 83/100\n",
      "1/1 [==============================] - 0s 8ms/step - loss: 0.3203 - accuracy: 0.1667\n",
      "Epoch 84/100\n",
      "1/1 [==============================] - 0s 8ms/step - loss: 0.3201 - accuracy: 0.1667\n",
      "Epoch 85/100\n",
      "1/1 [==============================] - 0s 9ms/step - loss: 0.3200 - accuracy: 0.1667\n",
      "Epoch 86/100\n",
      "1/1 [==============================] - 0s 9ms/step - loss: 0.3198 - accuracy: 0.1667\n",
      "Epoch 87/100\n",
      "1/1 [==============================] - 0s 10ms/step - loss: 0.3197 - accuracy: 0.1667\n",
      "Epoch 88/100\n",
      "1/1 [==============================] - 0s 9ms/step - loss: 0.3196 - accuracy: 0.1667\n",
      "Epoch 89/100\n",
      "1/1 [==============================] - 0s 8ms/step - loss: 0.3194 - accuracy: 0.1667\n",
      "Epoch 90/100\n",
      "1/1 [==============================] - 0s 10ms/step - loss: 0.3193 - accuracy: 0.1667\n",
      "Epoch 91/100\n",
      "1/1 [==============================] - 0s 9ms/step - loss: 0.3191 - accuracy: 0.1667\n",
      "Epoch 92/100\n",
      "1/1 [==============================] - 0s 8ms/step - loss: 0.3190 - accuracy: 0.1667\n",
      "Epoch 93/100\n",
      "1/1 [==============================] - 0s 8ms/step - loss: 0.3188 - accuracy: 0.1667\n",
      "Epoch 94/100\n",
      "1/1 [==============================] - 0s 8ms/step - loss: 0.3187 - accuracy: 0.1667\n",
      "Epoch 95/100\n",
      "1/1 [==============================] - 0s 10ms/step - loss: 0.3186 - accuracy: 0.1667\n",
      "Epoch 96/100\n",
      "1/1 [==============================] - 0s 9ms/step - loss: 0.3184 - accuracy: 0.1667\n",
      "Epoch 97/100\n",
      "1/1 [==============================] - 0s 9ms/step - loss: 0.3183 - accuracy: 0.1667\n",
      "Epoch 98/100\n",
      "1/1 [==============================] - 0s 10ms/step - loss: 0.3181 - accuracy: 0.1667\n",
      "Epoch 99/100\n",
      "1/1 [==============================] - 0s 8ms/step - loss: 0.3180 - accuracy: 0.1667\n",
      "Epoch 100/100\n",
      "1/1 [==============================] - 0s 8ms/step - loss: 0.3178 - accuracy: 0.1667\n"
     ]
    },
    {
     "data": {
      "text/plain": [
       "<keras.callbacks.History at 0x1d4e864b0c8>"
      ]
     },
     "execution_count": 9,
     "metadata": {},
     "output_type": "execute_result"
    }
   ],
   "source": [
    "model.fit(x_train, y_train, epochs=100, batch_size=6)"
   ]
  },
  {
   "cell_type": "markdown",
   "metadata": {},
   "source": [
    "We can predict the values from the training value. Why are the results floating point number and not 0 or 1? Does the result seem likely?"
   ]
  },
  {
   "cell_type": "code",
   "execution_count": 10,
   "metadata": {},
   "outputs": [
    {
     "name": "stdout",
     "output_type": "stream",
     "text": [
      "1/1 [==============================] - 0s 428ms/step\n"
     ]
    },
    {
     "data": {
      "text/plain": [
       "array([[0.3676083 ],\n",
       "       [0.40724263],\n",
       "       [0.44812214],\n",
       "       [0.48971495],\n",
       "       [0.5314507 ],\n",
       "       [0.572751  ]], dtype=float32)"
      ]
     },
     "execution_count": 10,
     "metadata": {},
     "output_type": "execute_result"
    }
   ],
   "source": [
    "model.predict(x_train)"
   ]
  },
  {
   "cell_type": "markdown",
   "metadata": {},
   "source": [
    "We can also print the found weights for each layer:"
   ]
  },
  {
   "cell_type": "code",
   "execution_count": 11,
   "metadata": {},
   "outputs": [
    {
     "name": "stdout",
     "output_type": "stream",
     "text": [
      "dense\n",
      "[array([[ 0.28237274],\n",
      "       [-0.55320245]], dtype=float32), array([0.01071138], dtype=float32)]\n"
     ]
    }
   ],
   "source": [
    "for layer in model.layers:\n",
    "    weights = layer.get_weights()\n",
    "    print(layer.name)\n",
    "    print(weights)"
   ]
  },
  {
   "cell_type": "markdown",
   "metadata": {},
   "source": [
    "How do we find the actual predictions? We use a threshold on the output of the sigmoid function."
   ]
  },
  {
   "cell_type": "code",
   "execution_count": 12,
   "metadata": {},
   "outputs": [
    {
     "name": "stdout",
     "output_type": "stream",
     "text": [
      "1/1 [==============================] - 0s 127ms/step\n"
     ]
    },
    {
     "data": {
      "text/plain": [
       "array([[False],\n",
       "       [False],\n",
       "       [False],\n",
       "       [False],\n",
       "       [ True],\n",
       "       [ True]])"
      ]
     },
     "execution_count": 12,
     "metadata": {},
     "output_type": "execute_result"
    }
   ],
   "source": [
    "model.predict(x_train) > 0.5"
   ]
  },
  {
   "cell_type": "markdown",
   "metadata": {},
   "source": [
    "### A larger network\n",
    "\n",
    "Lets try a more complicated network with two hidden layers."
   ]
  },
  {
   "cell_type": "code",
   "execution_count": 13,
   "metadata": {},
   "outputs": [],
   "source": [
    "model = keras.Sequential()\n",
    "model.add(keras.layers.Dense(2, activation='relu', input_shape=[2]))\n",
    "model.add(keras.layers.Dense(2, activation='relu'))\n",
    "model.add(keras.layers.Dense(1, activation='sigmoid'))\n",
    "model.compile(loss='mse',\n",
    "              optimizer='sgd',\n",
    "              metrics=['accuracy'])"
   ]
  },
  {
   "cell_type": "markdown",
   "metadata": {},
   "source": [
    "And train it again..."
   ]
  },
  {
   "cell_type": "code",
   "execution_count": 14,
   "metadata": {},
   "outputs": [
    {
     "name": "stdout",
     "output_type": "stream",
     "text": [
      "Epoch 1/200\n",
      "1/1 [==============================] - 1s 1s/step - loss: 0.2499 - accuracy: 0.5000\n",
      "Epoch 2/200\n",
      "1/1 [==============================] - 0s 20ms/step - loss: 0.2499 - accuracy: 0.5000\n",
      "Epoch 3/200\n",
      "1/1 [==============================] - 0s 21ms/step - loss: 0.2499 - accuracy: 0.5000\n",
      "Epoch 4/200\n",
      "1/1 [==============================] - 0s 18ms/step - loss: 0.2499 - accuracy: 0.5000\n",
      "Epoch 5/200\n",
      "1/1 [==============================] - 0s 19ms/step - loss: 0.2499 - accuracy: 0.5000\n",
      "Epoch 6/200\n",
      "1/1 [==============================] - 0s 19ms/step - loss: 0.2499 - accuracy: 0.5000\n",
      "Epoch 7/200\n",
      "1/1 [==============================] - 0s 20ms/step - loss: 0.2499 - accuracy: 0.5000\n",
      "Epoch 8/200\n",
      "1/1 [==============================] - 0s 17ms/step - loss: 0.2499 - accuracy: 0.5000\n",
      "Epoch 9/200\n",
      "1/1 [==============================] - 0s 16ms/step - loss: 0.2499 - accuracy: 0.5000\n",
      "Epoch 10/200\n",
      "1/1 [==============================] - 0s 21ms/step - loss: 0.2499 - accuracy: 0.5000\n",
      "Epoch 11/200\n",
      "1/1 [==============================] - 0s 16ms/step - loss: 0.2499 - accuracy: 0.5000\n",
      "Epoch 12/200\n",
      "1/1 [==============================] - 0s 20ms/step - loss: 0.2499 - accuracy: 0.5000\n",
      "Epoch 13/200\n",
      "1/1 [==============================] - 0s 16ms/step - loss: 0.2499 - accuracy: 0.5000\n",
      "Epoch 14/200\n",
      "1/1 [==============================] - 0s 18ms/step - loss: 0.2499 - accuracy: 0.5000\n",
      "Epoch 15/200\n",
      "1/1 [==============================] - 0s 19ms/step - loss: 0.2499 - accuracy: 0.5000\n",
      "Epoch 16/200\n",
      "1/1 [==============================] - 0s 16ms/step - loss: 0.2499 - accuracy: 0.5000\n",
      "Epoch 17/200\n",
      "1/1 [==============================] - 0s 17ms/step - loss: 0.2499 - accuracy: 0.5000\n",
      "Epoch 18/200\n",
      "1/1 [==============================] - 0s 19ms/step - loss: 0.2499 - accuracy: 0.5000\n",
      "Epoch 19/200\n",
      "1/1 [==============================] - 0s 20ms/step - loss: 0.2499 - accuracy: 0.5000\n",
      "Epoch 20/200\n",
      "1/1 [==============================] - 0s 22ms/step - loss: 0.2499 - accuracy: 0.5000\n",
      "Epoch 21/200\n",
      "1/1 [==============================] - 0s 22ms/step - loss: 0.2499 - accuracy: 0.5000\n",
      "Epoch 22/200\n",
      "1/1 [==============================] - 0s 21ms/step - loss: 0.2499 - accuracy: 0.5000\n",
      "Epoch 23/200\n",
      "1/1 [==============================] - 0s 18ms/step - loss: 0.2499 - accuracy: 0.5000\n",
      "Epoch 24/200\n",
      "1/1 [==============================] - 0s 19ms/step - loss: 0.2499 - accuracy: 0.5000\n",
      "Epoch 25/200\n",
      "1/1 [==============================] - 0s 18ms/step - loss: 0.2499 - accuracy: 0.5000\n",
      "Epoch 26/200\n",
      "1/1 [==============================] - 0s 21ms/step - loss: 0.2499 - accuracy: 0.5000\n",
      "Epoch 27/200\n",
      "1/1 [==============================] - 0s 11ms/step - loss: 0.2499 - accuracy: 0.5000\n",
      "Epoch 28/200\n",
      "1/1 [==============================] - 0s 10ms/step - loss: 0.2499 - accuracy: 0.5000\n",
      "Epoch 29/200\n",
      "1/1 [==============================] - 0s 11ms/step - loss: 0.2499 - accuracy: 0.5000\n",
      "Epoch 30/200\n",
      "1/1 [==============================] - 0s 9ms/step - loss: 0.2499 - accuracy: 0.5000\n",
      "Epoch 31/200\n",
      "1/1 [==============================] - 0s 9ms/step - loss: 0.2499 - accuracy: 0.5000\n",
      "Epoch 32/200\n",
      "1/1 [==============================] - 0s 7ms/step - loss: 0.2499 - accuracy: 0.5000\n",
      "Epoch 33/200\n",
      "1/1 [==============================] - 0s 9ms/step - loss: 0.2499 - accuracy: 0.5000\n",
      "Epoch 34/200\n",
      "1/1 [==============================] - 0s 8ms/step - loss: 0.2499 - accuracy: 0.5000\n",
      "Epoch 35/200\n",
      "1/1 [==============================] - 0s 9ms/step - loss: 0.2499 - accuracy: 0.5000\n",
      "Epoch 36/200\n",
      "1/1 [==============================] - 0s 9ms/step - loss: 0.2499 - accuracy: 0.5000\n",
      "Epoch 37/200\n",
      "1/1 [==============================] - 0s 10ms/step - loss: 0.2499 - accuracy: 0.5000\n",
      "Epoch 38/200\n",
      "1/1 [==============================] - 0s 10ms/step - loss: 0.2499 - accuracy: 0.5000\n",
      "Epoch 39/200\n",
      "1/1 [==============================] - 0s 10ms/step - loss: 0.2499 - accuracy: 0.5000\n",
      "Epoch 40/200\n",
      "1/1 [==============================] - 0s 9ms/step - loss: 0.2499 - accuracy: 0.5000\n",
      "Epoch 41/200\n",
      "1/1 [==============================] - 0s 11ms/step - loss: 0.2499 - accuracy: 0.5000\n",
      "Epoch 42/200\n",
      "1/1 [==============================] - 0s 10ms/step - loss: 0.2499 - accuracy: 0.5000\n",
      "Epoch 43/200\n",
      "1/1 [==============================] - 0s 11ms/step - loss: 0.2499 - accuracy: 0.5000\n",
      "Epoch 44/200\n",
      "1/1 [==============================] - 0s 8ms/step - loss: 0.2499 - accuracy: 0.5000\n",
      "Epoch 45/200\n",
      "1/1 [==============================] - 0s 12ms/step - loss: 0.2499 - accuracy: 0.5000\n",
      "Epoch 46/200\n",
      "1/1 [==============================] - 0s 7ms/step - loss: 0.2499 - accuracy: 0.5000\n",
      "Epoch 47/200\n",
      "1/1 [==============================] - 0s 11ms/step - loss: 0.2499 - accuracy: 0.5000\n",
      "Epoch 48/200\n",
      "1/1 [==============================] - 0s 9ms/step - loss: 0.2499 - accuracy: 0.5000\n",
      "Epoch 49/200\n",
      "1/1 [==============================] - 0s 9ms/step - loss: 0.2499 - accuracy: 0.5000\n",
      "Epoch 50/200\n",
      "1/1 [==============================] - 0s 9ms/step - loss: 0.2499 - accuracy: 0.5000\n",
      "Epoch 51/200\n",
      "1/1 [==============================] - 0s 8ms/step - loss: 0.2499 - accuracy: 0.5000\n",
      "Epoch 52/200\n",
      "1/1 [==============================] - 0s 10ms/step - loss: 0.2499 - accuracy: 0.5000\n",
      "Epoch 53/200\n",
      "1/1 [==============================] - 0s 8ms/step - loss: 0.2499 - accuracy: 0.5000\n",
      "Epoch 54/200\n",
      "1/1 [==============================] - 0s 8ms/step - loss: 0.2499 - accuracy: 0.5000\n",
      "Epoch 55/200\n",
      "1/1 [==============================] - 0s 10ms/step - loss: 0.2499 - accuracy: 0.5000\n",
      "Epoch 56/200\n",
      "1/1 [==============================] - 0s 9ms/step - loss: 0.2499 - accuracy: 0.5000\n",
      "Epoch 57/200\n",
      "1/1 [==============================] - 0s 9ms/step - loss: 0.2499 - accuracy: 0.5000\n",
      "Epoch 58/200\n",
      "1/1 [==============================] - 0s 8ms/step - loss: 0.2499 - accuracy: 0.5000\n",
      "Epoch 59/200\n",
      "1/1 [==============================] - 0s 7ms/step - loss: 0.2499 - accuracy: 0.5000\n",
      "Epoch 60/200\n",
      "1/1 [==============================] - 0s 7ms/step - loss: 0.2499 - accuracy: 0.5000\n",
      "Epoch 61/200\n",
      "1/1 [==============================] - 0s 8ms/step - loss: 0.2499 - accuracy: 0.5000\n",
      "Epoch 62/200\n",
      "1/1 [==============================] - 0s 8ms/step - loss: 0.2499 - accuracy: 0.5000\n",
      "Epoch 63/200\n",
      "1/1 [==============================] - 0s 7ms/step - loss: 0.2499 - accuracy: 0.5000\n",
      "Epoch 64/200\n",
      "1/1 [==============================] - 0s 7ms/step - loss: 0.2499 - accuracy: 0.5000\n",
      "Epoch 65/200\n",
      "1/1 [==============================] - 0s 9ms/step - loss: 0.2499 - accuracy: 0.5000\n",
      "Epoch 66/200\n",
      "1/1 [==============================] - 0s 9ms/step - loss: 0.2499 - accuracy: 0.5000\n",
      "Epoch 67/200\n",
      "1/1 [==============================] - 0s 8ms/step - loss: 0.2499 - accuracy: 0.5000\n",
      "Epoch 68/200\n",
      "1/1 [==============================] - 0s 9ms/step - loss: 0.2499 - accuracy: 0.5000\n",
      "Epoch 69/200\n",
      "1/1 [==============================] - 0s 9ms/step - loss: 0.2499 - accuracy: 0.5000\n",
      "Epoch 70/200\n",
      "1/1 [==============================] - 0s 8ms/step - loss: 0.2499 - accuracy: 0.5000\n",
      "Epoch 71/200\n",
      "1/1 [==============================] - 0s 8ms/step - loss: 0.2499 - accuracy: 0.5000\n",
      "Epoch 72/200\n",
      "1/1 [==============================] - 0s 10ms/step - loss: 0.2499 - accuracy: 0.5000\n",
      "Epoch 73/200\n",
      "1/1 [==============================] - 0s 10ms/step - loss: 0.2499 - accuracy: 0.5000\n",
      "Epoch 74/200\n",
      "1/1 [==============================] - 0s 8ms/step - loss: 0.2499 - accuracy: 0.5000\n",
      "Epoch 75/200\n",
      "1/1 [==============================] - 0s 9ms/step - loss: 0.2499 - accuracy: 0.5000\n",
      "Epoch 76/200\n",
      "1/1 [==============================] - 0s 9ms/step - loss: 0.2499 - accuracy: 0.5000\n",
      "Epoch 77/200\n",
      "1/1 [==============================] - 0s 8ms/step - loss: 0.2499 - accuracy: 0.5000\n",
      "Epoch 78/200\n",
      "1/1 [==============================] - 0s 11ms/step - loss: 0.2499 - accuracy: 0.5000\n",
      "Epoch 79/200\n",
      "1/1 [==============================] - 0s 11ms/step - loss: 0.2499 - accuracy: 0.5000\n",
      "Epoch 80/200\n",
      "1/1 [==============================] - 0s 9ms/step - loss: 0.2499 - accuracy: 0.5000\n",
      "Epoch 81/200\n",
      "1/1 [==============================] - 0s 11ms/step - loss: 0.2499 - accuracy: 0.5000\n",
      "Epoch 82/200\n",
      "1/1 [==============================] - 0s 11ms/step - loss: 0.2499 - accuracy: 0.5000\n",
      "Epoch 83/200\n",
      "1/1 [==============================] - 0s 10ms/step - loss: 0.2499 - accuracy: 0.5000\n",
      "Epoch 84/200\n",
      "1/1 [==============================] - 0s 9ms/step - loss: 0.2499 - accuracy: 0.5000\n",
      "Epoch 85/200\n",
      "1/1 [==============================] - 0s 10ms/step - loss: 0.2498 - accuracy: 0.5000\n",
      "Epoch 86/200\n",
      "1/1 [==============================] - 0s 10ms/step - loss: 0.2498 - accuracy: 0.5000\n",
      "Epoch 87/200\n",
      "1/1 [==============================] - 0s 8ms/step - loss: 0.2498 - accuracy: 0.5000\n",
      "Epoch 88/200\n",
      "1/1 [==============================] - 0s 9ms/step - loss: 0.2498 - accuracy: 0.5000\n",
      "Epoch 89/200\n",
      "1/1 [==============================] - 0s 8ms/step - loss: 0.2498 - accuracy: 0.5000\n",
      "Epoch 90/200\n",
      "1/1 [==============================] - 0s 8ms/step - loss: 0.2498 - accuracy: 0.5000\n",
      "Epoch 91/200\n",
      "1/1 [==============================] - 0s 10ms/step - loss: 0.2498 - accuracy: 0.5000\n",
      "Epoch 92/200\n",
      "1/1 [==============================] - 0s 10ms/step - loss: 0.2498 - accuracy: 0.5000\n",
      "Epoch 93/200\n",
      "1/1 [==============================] - 0s 9ms/step - loss: 0.2498 - accuracy: 0.5000\n",
      "Epoch 94/200\n",
      "1/1 [==============================] - 0s 8ms/step - loss: 0.2498 - accuracy: 0.5000\n",
      "Epoch 95/200\n",
      "1/1 [==============================] - 0s 8ms/step - loss: 0.2498 - accuracy: 0.5000\n",
      "Epoch 96/200\n",
      "1/1 [==============================] - 0s 9ms/step - loss: 0.2498 - accuracy: 0.5000\n",
      "Epoch 97/200\n",
      "1/1 [==============================] - 0s 9ms/step - loss: 0.2498 - accuracy: 0.5000\n",
      "Epoch 98/200\n",
      "1/1 [==============================] - 0s 8ms/step - loss: 0.2498 - accuracy: 0.5000\n",
      "Epoch 99/200\n",
      "1/1 [==============================] - 0s 9ms/step - loss: 0.2498 - accuracy: 0.5000\n",
      "Epoch 100/200\n",
      "1/1 [==============================] - 0s 9ms/step - loss: 0.2498 - accuracy: 0.5000\n",
      "Epoch 101/200\n",
      "1/1 [==============================] - 0s 9ms/step - loss: 0.2498 - accuracy: 0.5000\n",
      "Epoch 102/200\n",
      "1/1 [==============================] - 0s 9ms/step - loss: 0.2498 - accuracy: 0.5000\n",
      "Epoch 103/200\n",
      "1/1 [==============================] - 0s 9ms/step - loss: 0.2498 - accuracy: 0.5000\n",
      "Epoch 104/200\n",
      "1/1 [==============================] - 0s 9ms/step - loss: 0.2498 - accuracy: 0.5000\n",
      "Epoch 105/200\n",
      "1/1 [==============================] - 0s 8ms/step - loss: 0.2498 - accuracy: 0.5000\n",
      "Epoch 106/200\n",
      "1/1 [==============================] - 0s 10ms/step - loss: 0.2498 - accuracy: 0.5000\n",
      "Epoch 107/200\n",
      "1/1 [==============================] - 0s 10ms/step - loss: 0.2498 - accuracy: 0.5000\n",
      "Epoch 108/200\n",
      "1/1 [==============================] - 0s 9ms/step - loss: 0.2498 - accuracy: 0.5000\n",
      "Epoch 109/200\n",
      "1/1 [==============================] - 0s 7ms/step - loss: 0.2498 - accuracy: 0.5000\n",
      "Epoch 110/200\n",
      "1/1 [==============================] - 0s 8ms/step - loss: 0.2498 - accuracy: 0.5000\n",
      "Epoch 111/200\n",
      "1/1 [==============================] - 0s 9ms/step - loss: 0.2498 - accuracy: 0.5000\n",
      "Epoch 112/200\n",
      "1/1 [==============================] - 0s 9ms/step - loss: 0.2498 - accuracy: 0.5000\n",
      "Epoch 113/200\n",
      "1/1 [==============================] - 0s 9ms/step - loss: 0.2498 - accuracy: 0.5000\n",
      "Epoch 114/200\n",
      "1/1 [==============================] - 0s 10ms/step - loss: 0.2498 - accuracy: 0.5000\n",
      "Epoch 115/200\n",
      "1/1 [==============================] - 0s 10ms/step - loss: 0.2498 - accuracy: 0.5000\n",
      "Epoch 116/200\n",
      "1/1 [==============================] - 0s 9ms/step - loss: 0.2498 - accuracy: 0.5000\n",
      "Epoch 117/200\n",
      "1/1 [==============================] - 0s 8ms/step - loss: 0.2498 - accuracy: 0.5000\n",
      "Epoch 118/200\n",
      "1/1 [==============================] - 0s 8ms/step - loss: 0.2498 - accuracy: 0.5000\n",
      "Epoch 119/200\n",
      "1/1 [==============================] - 0s 8ms/step - loss: 0.2498 - accuracy: 0.5000\n",
      "Epoch 120/200\n",
      "1/1 [==============================] - 0s 11ms/step - loss: 0.2498 - accuracy: 0.5000\n",
      "Epoch 121/200\n",
      "1/1 [==============================] - 0s 9ms/step - loss: 0.2498 - accuracy: 0.5000\n",
      "Epoch 122/200\n",
      "1/1 [==============================] - 0s 9ms/step - loss: 0.2498 - accuracy: 0.5000\n",
      "Epoch 123/200\n",
      "1/1 [==============================] - 0s 10ms/step - loss: 0.2498 - accuracy: 0.5000\n",
      "Epoch 124/200\n",
      "1/1 [==============================] - 0s 10ms/step - loss: 0.2498 - accuracy: 0.5000\n",
      "Epoch 125/200\n",
      "1/1 [==============================] - 0s 11ms/step - loss: 0.2498 - accuracy: 0.5000\n",
      "Epoch 126/200\n",
      "1/1 [==============================] - 0s 10ms/step - loss: 0.2498 - accuracy: 0.5000\n",
      "Epoch 127/200\n",
      "1/1 [==============================] - 0s 8ms/step - loss: 0.2498 - accuracy: 0.5000\n",
      "Epoch 128/200\n",
      "1/1 [==============================] - 0s 8ms/step - loss: 0.2498 - accuracy: 0.5000\n",
      "Epoch 129/200\n",
      "1/1 [==============================] - 0s 9ms/step - loss: 0.2498 - accuracy: 0.5000\n",
      "Epoch 130/200\n",
      "1/1 [==============================] - 0s 10ms/step - loss: 0.2498 - accuracy: 0.5000\n",
      "Epoch 131/200\n",
      "1/1 [==============================] - 0s 9ms/step - loss: 0.2498 - accuracy: 0.5000\n",
      "Epoch 132/200\n",
      "1/1 [==============================] - 0s 10ms/step - loss: 0.2498 - accuracy: 0.5000\n",
      "Epoch 133/200\n",
      "1/1 [==============================] - 0s 8ms/step - loss: 0.2498 - accuracy: 0.5000\n",
      "Epoch 134/200\n",
      "1/1 [==============================] - 0s 21ms/step - loss: 0.2498 - accuracy: 0.5000\n",
      "Epoch 135/200\n",
      "1/1 [==============================] - 0s 11ms/step - loss: 0.2498 - accuracy: 0.5000\n",
      "Epoch 136/200\n",
      "1/1 [==============================] - 0s 10ms/step - loss: 0.2498 - accuracy: 0.5000\n",
      "Epoch 137/200\n",
      "1/1 [==============================] - 0s 10ms/step - loss: 0.2498 - accuracy: 0.5000\n",
      "Epoch 138/200\n",
      "1/1 [==============================] - 0s 9ms/step - loss: 0.2498 - accuracy: 0.5000\n",
      "Epoch 139/200\n",
      "1/1 [==============================] - 0s 11ms/step - loss: 0.2498 - accuracy: 0.5000\n",
      "Epoch 140/200\n",
      "1/1 [==============================] - 0s 10ms/step - loss: 0.2498 - accuracy: 0.5000\n",
      "Epoch 141/200\n",
      "1/1 [==============================] - 0s 10ms/step - loss: 0.2498 - accuracy: 0.5000\n",
      "Epoch 142/200\n",
      "1/1 [==============================] - 0s 7ms/step - loss: 0.2498 - accuracy: 0.5000\n",
      "Epoch 143/200\n",
      "1/1 [==============================] - 0s 8ms/step - loss: 0.2498 - accuracy: 0.5000\n",
      "Epoch 144/200\n",
      "1/1 [==============================] - 0s 8ms/step - loss: 0.2498 - accuracy: 0.5000\n",
      "Epoch 145/200\n",
      "1/1 [==============================] - 0s 8ms/step - loss: 0.2498 - accuracy: 0.5000\n",
      "Epoch 146/200\n",
      "1/1 [==============================] - 0s 8ms/step - loss: 0.2498 - accuracy: 0.5000\n",
      "Epoch 147/200\n",
      "1/1 [==============================] - 0s 7ms/step - loss: 0.2498 - accuracy: 0.5000\n",
      "Epoch 148/200\n",
      "1/1 [==============================] - 0s 8ms/step - loss: 0.2498 - accuracy: 0.5000\n",
      "Epoch 149/200\n",
      "1/1 [==============================] - 0s 8ms/step - loss: 0.2498 - accuracy: 0.5000\n",
      "Epoch 150/200\n",
      "1/1 [==============================] - 0s 10ms/step - loss: 0.2498 - accuracy: 0.5000\n",
      "Epoch 151/200\n",
      "1/1 [==============================] - 0s 10ms/step - loss: 0.2498 - accuracy: 0.5000\n",
      "Epoch 152/200\n",
      "1/1 [==============================] - 0s 10ms/step - loss: 0.2498 - accuracy: 0.5000\n",
      "Epoch 153/200\n",
      "1/1 [==============================] - 0s 10ms/step - loss: 0.2498 - accuracy: 0.5000\n",
      "Epoch 154/200\n",
      "1/1 [==============================] - 0s 9ms/step - loss: 0.2498 - accuracy: 0.5000\n",
      "Epoch 155/200\n",
      "1/1 [==============================] - 0s 7ms/step - loss: 0.2498 - accuracy: 0.5000\n",
      "Epoch 156/200\n",
      "1/1 [==============================] - 0s 8ms/step - loss: 0.2498 - accuracy: 0.5000\n",
      "Epoch 157/200\n",
      "1/1 [==============================] - 0s 9ms/step - loss: 0.2498 - accuracy: 0.5000\n",
      "Epoch 158/200\n",
      "1/1 [==============================] - 0s 8ms/step - loss: 0.2498 - accuracy: 0.5000\n",
      "Epoch 159/200\n",
      "1/1 [==============================] - 0s 9ms/step - loss: 0.2498 - accuracy: 0.5000\n",
      "Epoch 160/200\n",
      "1/1 [==============================] - 0s 7ms/step - loss: 0.2498 - accuracy: 0.5000\n",
      "Epoch 161/200\n",
      "1/1 [==============================] - 0s 7ms/step - loss: 0.2498 - accuracy: 0.5000\n",
      "Epoch 162/200\n",
      "1/1 [==============================] - 0s 7ms/step - loss: 0.2498 - accuracy: 0.5000\n",
      "Epoch 163/200\n",
      "1/1 [==============================] - 0s 7ms/step - loss: 0.2498 - accuracy: 0.5000\n",
      "Epoch 164/200\n",
      "1/1 [==============================] - 0s 8ms/step - loss: 0.2498 - accuracy: 0.5000\n",
      "Epoch 165/200\n",
      "1/1 [==============================] - 0s 7ms/step - loss: 0.2498 - accuracy: 0.5000\n",
      "Epoch 166/200\n",
      "1/1 [==============================] - 0s 6ms/step - loss: 0.2498 - accuracy: 0.5000\n",
      "Epoch 167/200\n",
      "1/1 [==============================] - 0s 7ms/step - loss: 0.2498 - accuracy: 0.5000\n",
      "Epoch 168/200\n",
      "1/1 [==============================] - 0s 8ms/step - loss: 0.2498 - accuracy: 0.5000\n",
      "Epoch 169/200\n",
      "1/1 [==============================] - 0s 6ms/step - loss: 0.2498 - accuracy: 0.5000\n",
      "Epoch 170/200\n",
      "1/1 [==============================] - 0s 7ms/step - loss: 0.2498 - accuracy: 0.5000\n",
      "Epoch 171/200\n",
      "1/1 [==============================] - 0s 9ms/step - loss: 0.2498 - accuracy: 0.5000\n",
      "Epoch 172/200\n",
      "1/1 [==============================] - 0s 9ms/step - loss: 0.2498 - accuracy: 0.5000\n",
      "Epoch 173/200\n",
      "1/1 [==============================] - 0s 8ms/step - loss: 0.2498 - accuracy: 0.5000\n",
      "Epoch 174/200\n",
      "1/1 [==============================] - 0s 7ms/step - loss: 0.2498 - accuracy: 0.5000\n",
      "Epoch 175/200\n",
      "1/1 [==============================] - 0s 9ms/step - loss: 0.2498 - accuracy: 0.5000\n",
      "Epoch 176/200\n",
      "1/1 [==============================] - 0s 9ms/step - loss: 0.2498 - accuracy: 0.5000\n",
      "Epoch 177/200\n",
      "1/1 [==============================] - 0s 8ms/step - loss: 0.2498 - accuracy: 0.5000\n",
      "Epoch 178/200\n",
      "1/1 [==============================] - 0s 8ms/step - loss: 0.2498 - accuracy: 0.5000\n",
      "Epoch 179/200\n",
      "1/1 [==============================] - 0s 7ms/step - loss: 0.2498 - accuracy: 0.5000\n",
      "Epoch 180/200\n",
      "1/1 [==============================] - 0s 9ms/step - loss: 0.2498 - accuracy: 0.5000\n",
      "Epoch 181/200\n",
      "1/1 [==============================] - 0s 9ms/step - loss: 0.2498 - accuracy: 0.5000\n",
      "Epoch 182/200\n",
      "1/1 [==============================] - 0s 12ms/step - loss: 0.2498 - accuracy: 0.5000\n",
      "Epoch 183/200\n",
      "1/1 [==============================] - 0s 11ms/step - loss: 0.2498 - accuracy: 0.5000\n",
      "Epoch 184/200\n",
      "1/1 [==============================] - 0s 9ms/step - loss: 0.2498 - accuracy: 0.5000\n",
      "Epoch 185/200\n",
      "1/1 [==============================] - 0s 10ms/step - loss: 0.2498 - accuracy: 0.5000\n",
      "Epoch 186/200\n",
      "1/1 [==============================] - 0s 10ms/step - loss: 0.2498 - accuracy: 0.5000\n",
      "Epoch 187/200\n",
      "1/1 [==============================] - 0s 9ms/step - loss: 0.2498 - accuracy: 0.5000\n",
      "Epoch 188/200\n",
      "1/1 [==============================] - 0s 10ms/step - loss: 0.2498 - accuracy: 0.5000\n",
      "Epoch 189/200\n",
      "1/1 [==============================] - 0s 10ms/step - loss: 0.2498 - accuracy: 0.5000\n",
      "Epoch 190/200\n",
      "1/1 [==============================] - 0s 8ms/step - loss: 0.2498 - accuracy: 0.5000\n",
      "Epoch 191/200\n",
      "1/1 [==============================] - 0s 14ms/step - loss: 0.2498 - accuracy: 0.5000\n",
      "Epoch 192/200\n",
      "1/1 [==============================] - 0s 24ms/step - loss: 0.2498 - accuracy: 0.5000\n",
      "Epoch 193/200\n",
      "1/1 [==============================] - 0s 7ms/step - loss: 0.2498 - accuracy: 0.5000\n",
      "Epoch 194/200\n",
      "1/1 [==============================] - 0s 9ms/step - loss: 0.2498 - accuracy: 0.5000\n",
      "Epoch 195/200\n",
      "1/1 [==============================] - 0s 7ms/step - loss: 0.2498 - accuracy: 0.5000\n",
      "Epoch 196/200\n",
      "1/1 [==============================] - 0s 10ms/step - loss: 0.2498 - accuracy: 0.5000\n",
      "Epoch 197/200\n",
      "1/1 [==============================] - 0s 9ms/step - loss: 0.2498 - accuracy: 0.5000\n",
      "Epoch 198/200\n",
      "1/1 [==============================] - 0s 8ms/step - loss: 0.2498 - accuracy: 0.5000\n",
      "Epoch 199/200\n",
      "1/1 [==============================] - 0s 8ms/step - loss: 0.2498 - accuracy: 0.5000\n",
      "Epoch 200/200\n",
      "1/1 [==============================] - 0s 7ms/step - loss: 0.2498 - accuracy: 0.5000\n"
     ]
    },
    {
     "data": {
      "text/plain": [
       "<keras.callbacks.History at 0x1d4e86fd948>"
      ]
     },
     "execution_count": 14,
     "metadata": {},
     "output_type": "execute_result"
    }
   ],
   "source": [
    "model.fit(x_train, y_train, epochs=200, batch_size=6)"
   ]
  },
  {
   "cell_type": "markdown",
   "metadata": {},
   "source": [
    "The results are not necessarly better, how does the prediction look now?"
   ]
  },
  {
   "cell_type": "code",
   "execution_count": 15,
   "metadata": {},
   "outputs": [
    {
     "name": "stdout",
     "output_type": "stream",
     "text": [
      "1/1 [==============================] - 0s 154ms/step\n"
     ]
    },
    {
     "data": {
      "text/plain": [
       "array([[0.4991699 ],\n",
       "       [0.49904513],\n",
       "       [0.49892035],\n",
       "       [0.49879557],\n",
       "       [0.49867082],\n",
       "       [0.49854606]], dtype=float32)"
      ]
     },
     "execution_count": 15,
     "metadata": {},
     "output_type": "execute_result"
    }
   ],
   "source": [
    "model.predict(x_train)"
   ]
  },
  {
   "cell_type": "code",
   "execution_count": 16,
   "metadata": {},
   "outputs": [
    {
     "name": "stdout",
     "output_type": "stream",
     "text": [
      "<keras.layers.core.dense.Dense object at 0x000001D4E86AABC8>\n",
      "[array([[-1.2141858 ,  0.33265242],\n",
      "       [-0.52152365,  0.21221314]], dtype=float32), array([ 0.0000000e+00, -1.9087396e-05], dtype=float32)]\n",
      "<keras.layers.core.dense.Dense object at 0x000001D4E8698348>\n",
      "[array([[ 0.9479004 ,  0.02984905],\n",
      "       [-1.2068542 ,  0.5863194 ]], dtype=float32), array([ 0.0000000e+00, -3.2569053e-05], dtype=float32)]\n",
      "<keras.layers.core.dense.Dense object at 0x000001D4E86B5FC8>\n",
      "[array([[ 0.6274961 ],\n",
      "       [-0.03533743]], dtype=float32), array([0.00107485], dtype=float32)]\n"
     ]
    }
   ],
   "source": [
    "for layer in model.layers:\n",
    "    weights = layer.get_weights()\n",
    "    print(layer)\n",
    "    print(weights)"
   ]
  },
  {
   "cell_type": "markdown",
   "metadata": {},
   "source": [
    "The larger network, does not seem to work better as the simpler one. Or is it maybe not large enough?\n",
    "\n",
    "The problem is not the network, but the data, we just do not have enough data. So lets try to make up some more data artificially.\n"
   ]
  },
  {
   "cell_type": "code",
   "execution_count": 17,
   "metadata": {},
   "outputs": [
    {
     "name": "stdout",
     "output_type": "stream",
     "text": [
      "[[0.78663968 0.86654749]\n",
      " [0.52393971 0.22972196]\n",
      " [0.35082239 0.91070312]\n",
      " ...\n",
      " [0.11801843 0.06080455]\n",
      " [0.22465375 0.39397247]\n",
      " [0.60604002 0.74191035]] [1. 0. 1. ... 0. 1. 1.]\n"
     ]
    }
   ],
   "source": [
    "x_new = np.random.random(size=(10000,2))\n",
    "y_new = np.zeros(10000, dtype=np.float32)\n",
    "condition = (x_new[:,1] > x_new[:,0])\n",
    "y_new[condition] = 1.0\n",
    "print(x_new, y_new)"
   ]
  },
  {
   "cell_type": "code",
   "execution_count": 18,
   "metadata": {},
   "outputs": [
    {
     "name": "stdout",
     "output_type": "stream",
     "text": [
      "Epoch 1/100\n",
      "100/100 [==============================] - 1s 3ms/step - loss: 0.2499 - accuracy: 0.5013\n",
      "Epoch 2/100\n",
      "100/100 [==============================] - 0s 4ms/step - loss: 0.2499 - accuracy: 0.5164\n",
      "Epoch 3/100\n",
      "100/100 [==============================] - 1s 7ms/step - loss: 0.2499 - accuracy: 0.5017\n",
      "Epoch 4/100\n",
      "100/100 [==============================] - 1s 7ms/step - loss: 0.2499 - accuracy: 0.5017\n",
      "Epoch 5/100\n",
      "100/100 [==============================] - 0s 4ms/step - loss: 0.2499 - accuracy: 0.5034\n",
      "Epoch 6/100\n",
      "100/100 [==============================] - 0s 4ms/step - loss: 0.2498 - accuracy: 0.5019\n",
      "Epoch 7/100\n",
      "100/100 [==============================] - 0s 4ms/step - loss: 0.2498 - accuracy: 0.5034\n",
      "Epoch 8/100\n",
      "100/100 [==============================] - 0s 5ms/step - loss: 0.2498 - accuracy: 0.5125\n",
      "Epoch 9/100\n",
      "100/100 [==============================] - 1s 6ms/step - loss: 0.2498 - accuracy: 0.5121\n",
      "Epoch 10/100\n",
      "100/100 [==============================] - 1s 5ms/step - loss: 0.2498 - accuracy: 0.5076\n",
      "Epoch 11/100\n",
      "100/100 [==============================] - 0s 4ms/step - loss: 0.2498 - accuracy: 0.5139\n",
      "Epoch 12/100\n",
      "100/100 [==============================] - 0s 5ms/step - loss: 0.2498 - accuracy: 0.5054\n",
      "Epoch 13/100\n",
      "100/100 [==============================] - 0s 5ms/step - loss: 0.2497 - accuracy: 0.5247\n",
      "Epoch 14/100\n",
      "100/100 [==============================] - 0s 4ms/step - loss: 0.2497 - accuracy: 0.5121\n",
      "Epoch 15/100\n",
      "100/100 [==============================] - 1s 6ms/step - loss: 0.2497 - accuracy: 0.5231\n",
      "Epoch 16/100\n",
      "100/100 [==============================] - 0s 4ms/step - loss: 0.2497 - accuracy: 0.5358\n",
      "Epoch 17/100\n",
      "100/100 [==============================] - 0s 4ms/step - loss: 0.2497 - accuracy: 0.5293\n",
      "Epoch 18/100\n",
      "100/100 [==============================] - 0s 4ms/step - loss: 0.2496 - accuracy: 0.5306\n",
      "Epoch 19/100\n",
      "100/100 [==============================] - 1s 5ms/step - loss: 0.2496 - accuracy: 0.5292\n",
      "Epoch 20/100\n",
      "100/100 [==============================] - 1s 6ms/step - loss: 0.2496 - accuracy: 0.5382\n",
      "Epoch 21/100\n",
      "100/100 [==============================] - 1s 6ms/step - loss: 0.2495 - accuracy: 0.5365\n",
      "Epoch 22/100\n",
      "100/100 [==============================] - 0s 5ms/step - loss: 0.2495 - accuracy: 0.5426\n",
      "Epoch 23/100\n",
      "100/100 [==============================] - 1s 5ms/step - loss: 0.2495 - accuracy: 0.5470\n",
      "Epoch 24/100\n",
      "100/100 [==============================] - 1s 5ms/step - loss: 0.2494 - accuracy: 0.5489\n",
      "Epoch 25/100\n",
      "100/100 [==============================] - 1s 6ms/step - loss: 0.2494 - accuracy: 0.5717\n",
      "Epoch 26/100\n",
      "100/100 [==============================] - 1s 6ms/step - loss: 0.2493 - accuracy: 0.5615\n",
      "Epoch 27/100\n",
      "100/100 [==============================] - 1s 6ms/step - loss: 0.2493 - accuracy: 0.5801\n",
      "Epoch 28/100\n",
      "100/100 [==============================] - 1s 7ms/step - loss: 0.2492 - accuracy: 0.5778\n",
      "Epoch 29/100\n",
      "100/100 [==============================] - 1s 7ms/step - loss: 0.2492 - accuracy: 0.5812\n",
      "Epoch 30/100\n",
      "100/100 [==============================] - 1s 6ms/step - loss: 0.2491 - accuracy: 0.5845\n",
      "Epoch 31/100\n",
      "100/100 [==============================] - 1s 6ms/step - loss: 0.2491 - accuracy: 0.5930\n",
      "Epoch 32/100\n",
      "100/100 [==============================] - 1s 5ms/step - loss: 0.2490 - accuracy: 0.5996\n",
      "Epoch 33/100\n",
      "100/100 [==============================] - 1s 5ms/step - loss: 0.2489 - accuracy: 0.5928\n",
      "Epoch 34/100\n",
      "100/100 [==============================] - 0s 5ms/step - loss: 0.2488 - accuracy: 0.5957\n",
      "Epoch 35/100\n",
      "100/100 [==============================] - 0s 4ms/step - loss: 0.2487 - accuracy: 0.6241\n",
      "Epoch 36/100\n",
      "100/100 [==============================] - 0s 5ms/step - loss: 0.2486 - accuracy: 0.6210\n",
      "Epoch 37/100\n",
      "100/100 [==============================] - 1s 6ms/step - loss: 0.2485 - accuracy: 0.6310\n",
      "Epoch 38/100\n",
      "100/100 [==============================] - 0s 4ms/step - loss: 0.2484 - accuracy: 0.6389\n",
      "Epoch 39/100\n",
      "100/100 [==============================] - 0s 5ms/step - loss: 0.2483 - accuracy: 0.6339\n",
      "Epoch 40/100\n",
      "100/100 [==============================] - 0s 4ms/step - loss: 0.2482 - accuracy: 0.6413\n",
      "Epoch 41/100\n",
      "100/100 [==============================] - 0s 5ms/step - loss: 0.2480 - accuracy: 0.6561\n",
      "Epoch 42/100\n",
      "100/100 [==============================] - 0s 4ms/step - loss: 0.2478 - accuracy: 0.6527\n",
      "Epoch 43/100\n",
      "100/100 [==============================] - 0s 5ms/step - loss: 0.2477 - accuracy: 0.6646\n",
      "Epoch 44/100\n",
      "100/100 [==============================] - 0s 5ms/step - loss: 0.2475 - accuracy: 0.6792\n",
      "Epoch 45/100\n",
      "100/100 [==============================] - 0s 3ms/step - loss: 0.2473 - accuracy: 0.6751\n",
      "Epoch 46/100\n",
      "100/100 [==============================] - 0s 4ms/step - loss: 0.2470 - accuracy: 0.6785\n",
      "Epoch 47/100\n",
      "100/100 [==============================] - 0s 4ms/step - loss: 0.2468 - accuracy: 0.6900\n",
      "Epoch 48/100\n",
      "100/100 [==============================] - 0s 3ms/step - loss: 0.2465 - accuracy: 0.6945\n",
      "Epoch 49/100\n",
      "100/100 [==============================] - 0s 5ms/step - loss: 0.2462 - accuracy: 0.6966\n",
      "Epoch 50/100\n",
      "100/100 [==============================] - 1s 6ms/step - loss: 0.2459 - accuracy: 0.7063\n",
      "Epoch 51/100\n",
      "100/100 [==============================] - 0s 4ms/step - loss: 0.2455 - accuracy: 0.7126\n",
      "Epoch 52/100\n",
      "100/100 [==============================] - 1s 5ms/step - loss: 0.2451 - accuracy: 0.7139\n",
      "Epoch 53/100\n",
      "100/100 [==============================] - 0s 4ms/step - loss: 0.2447 - accuracy: 0.7193\n",
      "Epoch 54/100\n",
      "100/100 [==============================] - 0s 5ms/step - loss: 0.2442 - accuracy: 0.7229\n",
      "Epoch 55/100\n",
      "100/100 [==============================] - 0s 5ms/step - loss: 0.2437 - accuracy: 0.7316\n",
      "Epoch 56/100\n",
      "100/100 [==============================] - 0s 2ms/step - loss: 0.2431 - accuracy: 0.7343\n",
      "Epoch 57/100\n",
      "100/100 [==============================] - 0s 2ms/step - loss: 0.2425 - accuracy: 0.7371\n",
      "Epoch 58/100\n",
      "100/100 [==============================] - 0s 3ms/step - loss: 0.2418 - accuracy: 0.7422\n",
      "Epoch 59/100\n",
      "100/100 [==============================] - 0s 3ms/step - loss: 0.2411 - accuracy: 0.7492\n",
      "Epoch 60/100\n",
      "100/100 [==============================] - 0s 3ms/step - loss: 0.2402 - accuracy: 0.7503\n",
      "Epoch 61/100\n",
      "100/100 [==============================] - 0s 3ms/step - loss: 0.2393 - accuracy: 0.7579\n",
      "Epoch 62/100\n",
      "100/100 [==============================] - 0s 5ms/step - loss: 0.2382 - accuracy: 0.7561\n",
      "Epoch 63/100\n",
      "100/100 [==============================] - 1s 5ms/step - loss: 0.2371 - accuracy: 0.7629\n",
      "Epoch 64/100\n",
      "100/100 [==============================] - 1s 6ms/step - loss: 0.2358 - accuracy: 0.7658\n",
      "Epoch 65/100\n",
      "100/100 [==============================] - 0s 4ms/step - loss: 0.2344 - accuracy: 0.7707\n",
      "Epoch 66/100\n",
      "100/100 [==============================] - 0s 3ms/step - loss: 0.2329 - accuracy: 0.7712\n",
      "Epoch 67/100\n",
      "100/100 [==============================] - 0s 4ms/step - loss: 0.2311 - accuracy: 0.7763\n",
      "Epoch 68/100\n",
      "100/100 [==============================] - 0s 4ms/step - loss: 0.2292 - accuracy: 0.7824\n",
      "Epoch 69/100\n",
      "100/100 [==============================] - 0s 4ms/step - loss: 0.2271 - accuracy: 0.7841\n",
      "Epoch 70/100\n",
      "100/100 [==============================] - 0s 3ms/step - loss: 0.2247 - accuracy: 0.7892\n",
      "Epoch 71/100\n",
      "100/100 [==============================] - 0s 4ms/step - loss: 0.2222 - accuracy: 0.7930\n",
      "Epoch 72/100\n",
      "100/100 [==============================] - 0s 5ms/step - loss: 0.2193 - accuracy: 0.7972\n",
      "Epoch 73/100\n",
      "100/100 [==============================] - 0s 4ms/step - loss: 0.2162 - accuracy: 0.7987\n",
      "Epoch 74/100\n",
      "100/100 [==============================] - 0s 4ms/step - loss: 0.2128 - accuracy: 0.8047\n",
      "Epoch 75/100\n",
      "100/100 [==============================] - 0s 3ms/step - loss: 0.2092 - accuracy: 0.8103\n",
      "Epoch 76/100\n",
      "100/100 [==============================] - 0s 3ms/step - loss: 0.2053 - accuracy: 0.8168\n",
      "Epoch 77/100\n",
      "100/100 [==============================] - 0s 3ms/step - loss: 0.2011 - accuracy: 0.8238\n",
      "Epoch 78/100\n",
      "100/100 [==============================] - 0s 3ms/step - loss: 0.1966 - accuracy: 0.8306\n",
      "Epoch 79/100\n",
      "100/100 [==============================] - 0s 3ms/step - loss: 0.1920 - accuracy: 0.8391\n",
      "Epoch 80/100\n",
      "100/100 [==============================] - 0s 3ms/step - loss: 0.1871 - accuracy: 0.8444\n",
      "Epoch 81/100\n",
      "100/100 [==============================] - 0s 3ms/step - loss: 0.1821 - accuracy: 0.8491\n",
      "Epoch 82/100\n",
      "100/100 [==============================] - 0s 3ms/step - loss: 0.1769 - accuracy: 0.8570\n",
      "Epoch 83/100\n",
      "100/100 [==============================] - 0s 3ms/step - loss: 0.1717 - accuracy: 0.8657\n",
      "Epoch 84/100\n",
      "100/100 [==============================] - 0s 3ms/step - loss: 0.1664 - accuracy: 0.8747\n",
      "Epoch 85/100\n",
      "100/100 [==============================] - 0s 3ms/step - loss: 0.1611 - accuracy: 0.8801\n",
      "Epoch 86/100\n",
      "100/100 [==============================] - 0s 3ms/step - loss: 0.1559 - accuracy: 0.8867\n",
      "Epoch 87/100\n",
      "100/100 [==============================] - 0s 3ms/step - loss: 0.1507 - accuracy: 0.8923\n",
      "Epoch 88/100\n",
      "100/100 [==============================] - 0s 3ms/step - loss: 0.1456 - accuracy: 0.9010\n",
      "Epoch 89/100\n",
      "100/100 [==============================] - 0s 3ms/step - loss: 0.1406 - accuracy: 0.9072\n",
      "Epoch 90/100\n",
      "100/100 [==============================] - 0s 4ms/step - loss: 0.1357 - accuracy: 0.9132\n",
      "Epoch 91/100\n",
      "100/100 [==============================] - 0s 3ms/step - loss: 0.1310 - accuracy: 0.9174\n",
      "Epoch 92/100\n",
      "100/100 [==============================] - 0s 3ms/step - loss: 0.1265 - accuracy: 0.9257\n",
      "Epoch 93/100\n",
      "100/100 [==============================] - 0s 3ms/step - loss: 0.1221 - accuracy: 0.9285\n",
      "Epoch 94/100\n",
      "100/100 [==============================] - 0s 3ms/step - loss: 0.1179 - accuracy: 0.9344\n",
      "Epoch 95/100\n",
      "100/100 [==============================] - 0s 3ms/step - loss: 0.1139 - accuracy: 0.9383\n",
      "Epoch 96/100\n",
      "100/100 [==============================] - 0s 3ms/step - loss: 0.1100 - accuracy: 0.9438\n",
      "Epoch 97/100\n",
      "100/100 [==============================] - 0s 4ms/step - loss: 0.1064 - accuracy: 0.9507\n",
      "Epoch 98/100\n",
      "100/100 [==============================] - 0s 5ms/step - loss: 0.1029 - accuracy: 0.9532\n",
      "Epoch 99/100\n",
      "100/100 [==============================] - 1s 6ms/step - loss: 0.0995 - accuracy: 0.9597\n",
      "Epoch 100/100\n",
      "100/100 [==============================] - 1s 6ms/step - loss: 0.0964 - accuracy: 0.9619\n"
     ]
    },
    {
     "data": {
      "text/plain": [
       "<keras.callbacks.History at 0x1d4e87c1188>"
      ]
     },
     "execution_count": 18,
     "metadata": {},
     "output_type": "execute_result"
    }
   ],
   "source": [
    "model.fit(x_new, y_new, epochs=100, batch_size=100)"
   ]
  },
  {
   "cell_type": "markdown",
   "metadata": {},
   "source": [
    "That seems better. Lets look how it performs on our original data."
   ]
  },
  {
   "cell_type": "code",
   "execution_count": 19,
   "metadata": {},
   "outputs": [
    {
     "name": "stdout",
     "output_type": "stream",
     "text": [
      "1/1 [==============================] - 0s 35ms/step\n"
     ]
    },
    {
     "data": {
      "text/plain": [
       "array([[0.72241604],\n",
       "       [0.72241604],\n",
       "       [0.6696526 ],\n",
       "       [0.2799025 ],\n",
       "       [0.06936371],\n",
       "       [0.01409049]], dtype=float32)"
      ]
     },
     "execution_count": 19,
     "metadata": {},
     "output_type": "execute_result"
    }
   ],
   "source": [
    "model.predict(x_train)"
   ]
  },
  {
   "cell_type": "markdown",
   "metadata": {},
   "source": [
    "### Evaluation\n",
    "\n",
    "We might want to check how the network performs on any data. For this, keras provides the evaluate function that will \n",
    "evaluate the loss and the metrics. So of course label (y) data is needed for that. "
   ]
  },
  {
   "cell_type": "code",
   "execution_count": 20,
   "metadata": {},
   "outputs": [
    {
     "name": "stdout",
     "output_type": "stream",
     "text": [
      "313/313 [==============================] - 2s 5ms/step - loss: 0.0948 - accuracy: 0.9648\n"
     ]
    },
    {
     "data": {
      "text/plain": [
       "[0.09480989724397659, 0.9648000001907349]"
      ]
     },
     "execution_count": 20,
     "metadata": {},
     "output_type": "execute_result"
    }
   ],
   "source": [
    "model.evaluate(x_new, y_new)"
   ]
  },
  {
   "cell_type": "markdown",
   "metadata": {},
   "source": [
    "Of course, we would normally do that on validation or test data not used during training."
   ]
  },
  {
   "cell_type": "code",
   "execution_count": 21,
   "metadata": {},
   "outputs": [
    {
     "name": "stdout",
     "output_type": "stream",
     "text": [
      "157/157 [==============================] - 1s 3ms/step - loss: 0.0940 - accuracy: 0.9644\n"
     ]
    },
    {
     "data": {
      "text/plain": [
       "[0.09396404027938843, 0.9643999934196472]"
      ]
     },
     "execution_count": 21,
     "metadata": {},
     "output_type": "execute_result"
    }
   ],
   "source": [
    "x_val_new = np.random.random(size=(5000,2))\n",
    "y_val_new = np.zeros(5000, dtype=np.float32)\n",
    "y_val_new[x_val_new[:,1] > x_val_new[:,0]] = 1.0\n",
    "model.evaluate(x_val_new, y_val_new)"
   ]
  },
  {
   "cell_type": "markdown",
   "metadata": {},
   "source": [
    "### Visualisation\n",
    "\n",
    "It is essential to visualise the training process to see what is going on. In Keras, an easy method to do this is to use the history object that is returned from fit. It contains the metrics and the loss.\n",
    "\n",
    "We will also split our data into training and validation for this test. We rebuild the model, so that it is initialized again. Otherwise we would just continue with the weights from the previous fit."
   ]
  },
  {
   "cell_type": "code",
   "execution_count": 22,
   "metadata": {},
   "outputs": [
    {
     "name": "stdout",
     "output_type": "stream",
     "text": [
      "Epoch 1/50\n",
      "75/75 [==============================] - 2s 9ms/step - loss: 0.2440 - accuracy: 0.6896 - val_loss: 0.2372 - val_accuracy: 0.7104\n",
      "Epoch 2/50\n",
      "75/75 [==============================] - 0s 5ms/step - loss: 0.2313 - accuracy: 0.7100 - val_loss: 0.2241 - val_accuracy: 0.7168\n",
      "Epoch 3/50\n",
      "75/75 [==============================] - 0s 5ms/step - loss: 0.2192 - accuracy: 0.7292 - val_loss: 0.2130 - val_accuracy: 0.7336\n",
      "Epoch 4/50\n",
      "75/75 [==============================] - 0s 6ms/step - loss: 0.2103 - accuracy: 0.7465 - val_loss: 0.2056 - val_accuracy: 0.7540\n",
      "Epoch 5/50\n",
      "75/75 [==============================] - 0s 6ms/step - loss: 0.2039 - accuracy: 0.7669 - val_loss: 0.1999 - val_accuracy: 0.7704\n",
      "Epoch 6/50\n",
      "75/75 [==============================] - 0s 6ms/step - loss: 0.1986 - accuracy: 0.7849 - val_loss: 0.1949 - val_accuracy: 0.7856\n",
      "Epoch 7/50\n",
      "75/75 [==============================] - 0s 6ms/step - loss: 0.1938 - accuracy: 0.8021 - val_loss: 0.1904 - val_accuracy: 0.8000\n",
      "Epoch 8/50\n",
      "75/75 [==============================] - 1s 7ms/step - loss: 0.1894 - accuracy: 0.8165 - val_loss: 0.1860 - val_accuracy: 0.8156\n",
      "Epoch 9/50\n",
      "75/75 [==============================] - 1s 7ms/step - loss: 0.1851 - accuracy: 0.8279 - val_loss: 0.1819 - val_accuracy: 0.8260\n",
      "Epoch 10/50\n",
      "75/75 [==============================] - 1s 7ms/step - loss: 0.1809 - accuracy: 0.8384 - val_loss: 0.1777 - val_accuracy: 0.8356\n",
      "Epoch 11/50\n",
      "75/75 [==============================] - 1s 8ms/step - loss: 0.1768 - accuracy: 0.8481 - val_loss: 0.1737 - val_accuracy: 0.8436\n",
      "Epoch 12/50\n",
      "75/75 [==============================] - 0s 5ms/step - loss: 0.1727 - accuracy: 0.8536 - val_loss: 0.1697 - val_accuracy: 0.8524\n",
      "Epoch 13/50\n",
      "75/75 [==============================] - 1s 8ms/step - loss: 0.1687 - accuracy: 0.8599 - val_loss: 0.1657 - val_accuracy: 0.8564\n",
      "Epoch 14/50\n",
      "75/75 [==============================] - 1s 8ms/step - loss: 0.1647 - accuracy: 0.8681 - val_loss: 0.1617 - val_accuracy: 0.8640\n",
      "Epoch 15/50\n",
      "75/75 [==============================] - 1s 7ms/step - loss: 0.1607 - accuracy: 0.8727 - val_loss: 0.1578 - val_accuracy: 0.8708\n",
      "Epoch 16/50\n",
      "75/75 [==============================] - 0s 4ms/step - loss: 0.1568 - accuracy: 0.8777 - val_loss: 0.1540 - val_accuracy: 0.8776\n",
      "Epoch 17/50\n",
      "75/75 [==============================] - 1s 7ms/step - loss: 0.1530 - accuracy: 0.8819 - val_loss: 0.1502 - val_accuracy: 0.8840\n",
      "Epoch 18/50\n",
      "75/75 [==============================] - 1s 8ms/step - loss: 0.1492 - accuracy: 0.8863 - val_loss: 0.1464 - val_accuracy: 0.8888\n",
      "Epoch 19/50\n",
      "75/75 [==============================] - 1s 7ms/step - loss: 0.1454 - accuracy: 0.8911 - val_loss: 0.1428 - val_accuracy: 0.8924\n",
      "Epoch 20/50\n",
      "75/75 [==============================] - 0s 5ms/step - loss: 0.1418 - accuracy: 0.8949 - val_loss: 0.1391 - val_accuracy: 0.8980\n",
      "Epoch 21/50\n",
      "75/75 [==============================] - 0s 5ms/step - loss: 0.1382 - accuracy: 0.9011 - val_loss: 0.1356 - val_accuracy: 0.9020\n",
      "Epoch 22/50\n",
      "75/75 [==============================] - 0s 5ms/step - loss: 0.1346 - accuracy: 0.9068 - val_loss: 0.1322 - val_accuracy: 0.9076\n",
      "Epoch 23/50\n",
      "75/75 [==============================] - 0s 5ms/step - loss: 0.1312 - accuracy: 0.9108 - val_loss: 0.1288 - val_accuracy: 0.9112\n",
      "Epoch 24/50\n",
      "75/75 [==============================] - 0s 5ms/step - loss: 0.1278 - accuracy: 0.9133 - val_loss: 0.1255 - val_accuracy: 0.9132\n",
      "Epoch 25/50\n",
      "75/75 [==============================] - 0s 5ms/step - loss: 0.1246 - accuracy: 0.9184 - val_loss: 0.1223 - val_accuracy: 0.9164\n",
      "Epoch 26/50\n",
      "75/75 [==============================] - 0s 5ms/step - loss: 0.1214 - accuracy: 0.9225 - val_loss: 0.1192 - val_accuracy: 0.9200\n",
      "Epoch 27/50\n",
      "75/75 [==============================] - 0s 5ms/step - loss: 0.1183 - accuracy: 0.9267 - val_loss: 0.1162 - val_accuracy: 0.9248\n",
      "Epoch 28/50\n",
      "75/75 [==============================] - 0s 5ms/step - loss: 0.1153 - accuracy: 0.9287 - val_loss: 0.1133 - val_accuracy: 0.9280\n",
      "Epoch 29/50\n",
      "75/75 [==============================] - 0s 5ms/step - loss: 0.1124 - accuracy: 0.9315 - val_loss: 0.1105 - val_accuracy: 0.9328\n",
      "Epoch 30/50\n",
      "75/75 [==============================] - 0s 5ms/step - loss: 0.1096 - accuracy: 0.9363 - val_loss: 0.1078 - val_accuracy: 0.9348\n",
      "Epoch 31/50\n",
      "75/75 [==============================] - 0s 5ms/step - loss: 0.1069 - accuracy: 0.9388 - val_loss: 0.1051 - val_accuracy: 0.9376\n",
      "Epoch 32/50\n",
      "75/75 [==============================] - 0s 5ms/step - loss: 0.1043 - accuracy: 0.9431 - val_loss: 0.1025 - val_accuracy: 0.9400\n",
      "Epoch 33/50\n",
      "75/75 [==============================] - 0s 5ms/step - loss: 0.1017 - accuracy: 0.9469 - val_loss: 0.1001 - val_accuracy: 0.9424\n",
      "Epoch 34/50\n",
      "75/75 [==============================] - 0s 5ms/step - loss: 0.0993 - accuracy: 0.9496 - val_loss: 0.0977 - val_accuracy: 0.9468\n",
      "Epoch 35/50\n",
      "75/75 [==============================] - 0s 4ms/step - loss: 0.0969 - accuracy: 0.9529 - val_loss: 0.0954 - val_accuracy: 0.9500\n",
      "Epoch 36/50\n",
      "75/75 [==============================] - 0s 4ms/step - loss: 0.0946 - accuracy: 0.9571 - val_loss: 0.0931 - val_accuracy: 0.9532\n",
      "Epoch 37/50\n",
      "75/75 [==============================] - 0s 4ms/step - loss: 0.0924 - accuracy: 0.9592 - val_loss: 0.0910 - val_accuracy: 0.9564\n",
      "Epoch 38/50\n",
      "75/75 [==============================] - 0s 4ms/step - loss: 0.0902 - accuracy: 0.9628 - val_loss: 0.0889 - val_accuracy: 0.9596\n",
      "Epoch 39/50\n",
      "75/75 [==============================] - 0s 4ms/step - loss: 0.0882 - accuracy: 0.9640 - val_loss: 0.0869 - val_accuracy: 0.9628\n",
      "Epoch 40/50\n",
      "75/75 [==============================] - 0s 5ms/step - loss: 0.0862 - accuracy: 0.9665 - val_loss: 0.0850 - val_accuracy: 0.9632\n",
      "Epoch 41/50\n",
      "75/75 [==============================] - 0s 5ms/step - loss: 0.0843 - accuracy: 0.9683 - val_loss: 0.0832 - val_accuracy: 0.9652\n",
      "Epoch 42/50\n",
      "75/75 [==============================] - 0s 5ms/step - loss: 0.0824 - accuracy: 0.9709 - val_loss: 0.0814 - val_accuracy: 0.9676\n",
      "Epoch 43/50\n",
      "75/75 [==============================] - 0s 5ms/step - loss: 0.0807 - accuracy: 0.9720 - val_loss: 0.0797 - val_accuracy: 0.9704\n",
      "Epoch 44/50\n",
      "75/75 [==============================] - 0s 6ms/step - loss: 0.0790 - accuracy: 0.9747 - val_loss: 0.0781 - val_accuracy: 0.9704\n",
      "Epoch 45/50\n",
      "75/75 [==============================] - 0s 4ms/step - loss: 0.0773 - accuracy: 0.9761 - val_loss: 0.0765 - val_accuracy: 0.9720\n",
      "Epoch 46/50\n",
      "75/75 [==============================] - 0s 4ms/step - loss: 0.0757 - accuracy: 0.9777 - val_loss: 0.0750 - val_accuracy: 0.9748\n",
      "Epoch 47/50\n",
      "75/75 [==============================] - 0s 4ms/step - loss: 0.0742 - accuracy: 0.9789 - val_loss: 0.0736 - val_accuracy: 0.9768\n",
      "Epoch 48/50\n",
      "75/75 [==============================] - 0s 4ms/step - loss: 0.0728 - accuracy: 0.9808 - val_loss: 0.0722 - val_accuracy: 0.9784\n",
      "Epoch 49/50\n",
      "75/75 [==============================] - 0s 4ms/step - loss: 0.0713 - accuracy: 0.9823 - val_loss: 0.0708 - val_accuracy: 0.9804\n",
      "Epoch 50/50\n",
      "75/75 [==============================] - 0s 4ms/step - loss: 0.0700 - accuracy: 0.9844 - val_loss: 0.0695 - val_accuracy: 0.9812\n"
     ]
    }
   ],
   "source": [
    "model = keras.Sequential()\n",
    "model.add(keras.layers.Dense(2, activation='relu', input_shape=[2]))\n",
    "model.add(keras.layers.Dense(2, activation='relu'))\n",
    "model.add(keras.layers.Dense(1, activation='sigmoid'))\n",
    "model.compile(loss='mse',\n",
    "              optimizer='sgd',\n",
    "              metrics=['accuracy'])\n",
    "history = model.fit(x_new, y_new, validation_split=0.25, epochs=50, batch_size=100)"
   ]
  },
  {
   "cell_type": "code",
   "execution_count": 23,
   "metadata": {},
   "outputs": [
    {
     "name": "stdout",
     "output_type": "stream",
     "text": [
      "dict_keys(['loss', 'accuracy', 'val_loss', 'val_accuracy'])\n"
     ]
    }
   ],
   "source": [
    "print(history.history.keys())"
   ]
  },
  {
   "cell_type": "code",
   "execution_count": 24,
   "metadata": {
    "scrolled": true
   },
   "outputs": [
    {
     "data": {
      "text/plain": [
       "<matplotlib.legend.Legend at 0x1d4eaef1608>"
      ]
     },
     "execution_count": 24,
     "metadata": {},
     "output_type": "execute_result"
    },
    {
     "data": {
      "image/png": "[encoded data removed]",
      "text/plain": [
       "<Figure size 640x480 with 1 Axes>"
      ]
     },
     "metadata": {},
     "output_type": "display_data"
    }
   ],
   "source": [
    "import matplotlib.pyplot as plt\n",
    "plt.plot(history.history['loss'])\n",
    "plt.plot(history.history['val_loss'])\n",
    "plt.title('Loss')\n",
    "plt.xlabel('epoch')\n",
    "plt.ylabel('loss')\n",
    "plt.legend(['Train', 'Val'], loc='upper left')"
   ]
  },
  {
   "cell_type": "code",
   "execution_count": 25,
   "metadata": {},
   "outputs": [
    {
     "data": {
      "text/plain": [
       "<matplotlib.legend.Legend at 0x1d4ed8ccdc8>"
      ]
     },
     "execution_count": 25,
     "metadata": {},
     "output_type": "execute_result"
    },
    {
     "data": {
      "image/png": "[encoded data removed]",
      "text/plain": [
       "<Figure size 640x480 with 1 Axes>"
      ]
     },
     "metadata": {},
     "output_type": "display_data"
    }
   ],
   "source": [
    "plt.plot(history.history['accuracy'])\n",
    "plt.plot(history.history['val_accuracy'])\n",
    "plt.title('Accuracy')\n",
    "plt.xlabel('epoch')\n",
    "plt.ylabel('acc')\n",
    "plt.legend(['Train', 'Val'], loc='upper left')"
   ]
  },
  {
   "cell_type": "markdown",
   "metadata": {},
   "source": [
    "## Exercise: Correct loss function\n",
    "\n",
    "The loss function used above (mse) is not optimal. A better loss function would be the crossentropy. Change the network to use that loss function."
   ]
  },
  {
   "cell_type": "code",
   "execution_count": 26,
   "metadata": {},
   "outputs": [
    {
     "name": "stdout",
     "output_type": "stream",
     "text": [
      "Epoch 1/50\n"
     ]
    },
    {
     "name": "stderr",
     "output_type": "stream",
     "text": [
      "c:\\Users\\chatr\\Documents\\Studium\\7_Semester\\DL4G\\DL4G-HSLU\\venv\\lib\\site-packages\\keras\\backend.py:5674: UserWarning: \"`binary_crossentropy` received `from_logits=True`, but the `output` argument was produced by a Sigmoid activation and thus does not represent logits. Was this intended?\n",
      "  output, from_logits, \"Sigmoid\", \"binary_crossentropy\"\n"
     ]
    },
    {
     "name": "stdout",
     "output_type": "stream",
     "text": [
      "75/75 [==============================] - 1s 7ms/step - loss: 0.6833 - accuracy: 0.7644 - val_loss: 0.6822 - val_accuracy: 0.7680\n",
      "Epoch 2/50\n",
      "75/75 [==============================] - 0s 4ms/step - loss: 0.6794 - accuracy: 0.8719 - val_loss: 0.6777 - val_accuracy: 0.9340\n",
      "Epoch 3/50\n",
      "75/75 [==============================] - 0s 4ms/step - loss: 0.6744 - accuracy: 0.9556 - val_loss: 0.6722 - val_accuracy: 0.9808\n",
      "Epoch 4/50\n",
      "75/75 [==============================] - 0s 4ms/step - loss: 0.6682 - accuracy: 0.9807 - val_loss: 0.6654 - val_accuracy: 0.9728\n",
      "Epoch 5/50\n",
      "75/75 [==============================] - 0s 4ms/step - loss: 0.6606 - accuracy: 0.9727 - val_loss: 0.6573 - val_accuracy: 0.9616\n",
      "Epoch 6/50\n",
      "75/75 [==============================] - 0s 4ms/step - loss: 0.6516 - accuracy: 0.9583 - val_loss: 0.6476 - val_accuracy: 0.9508\n",
      "Epoch 7/50\n",
      "75/75 [==============================] - 0s 4ms/step - loss: 0.6410 - accuracy: 0.9456 - val_loss: 0.6363 - val_accuracy: 0.9332\n",
      "Epoch 8/50\n",
      "75/75 [==============================] - 0s 4ms/step - loss: 0.6285 - accuracy: 0.9305 - val_loss: 0.6231 - val_accuracy: 0.9148\n",
      "Epoch 9/50\n",
      "75/75 [==============================] - 0s 4ms/step - loss: 0.6140 - accuracy: 0.9201 - val_loss: 0.6078 - val_accuracy: 0.9032\n",
      "Epoch 10/50\n",
      "75/75 [==============================] - 0s 4ms/step - loss: 0.5974 - accuracy: 0.9063 - val_loss: 0.5904 - val_accuracy: 0.8976\n",
      "Epoch 11/50\n",
      "75/75 [==============================] - 0s 4ms/step - loss: 0.5786 - accuracy: 0.9027 - val_loss: 0.5708 - val_accuracy: 0.8960\n",
      "Epoch 12/50\n",
      "75/75 [==============================] - 0s 4ms/step - loss: 0.5576 - accuracy: 0.9041 - val_loss: 0.5490 - val_accuracy: 0.8960\n",
      "Epoch 13/50\n",
      "75/75 [==============================] - 1s 7ms/step - loss: 0.5343 - accuracy: 0.9089 - val_loss: 0.5251 - val_accuracy: 0.8984\n",
      "Epoch 14/50\n",
      "75/75 [==============================] - 0s 4ms/step - loss: 0.5092 - accuracy: 0.9153 - val_loss: 0.4996 - val_accuracy: 0.9052\n",
      "Epoch 15/50\n",
      "75/75 [==============================] - 0s 4ms/step - loss: 0.4827 - accuracy: 0.9185 - val_loss: 0.4727 - val_accuracy: 0.9200\n",
      "Epoch 16/50\n",
      "75/75 [==============================] - 0s 4ms/step - loss: 0.4552 - accuracy: 0.9324 - val_loss: 0.4454 - val_accuracy: 0.9292\n",
      "Epoch 17/50\n",
      "75/75 [==============================] - 0s 4ms/step - loss: 0.4274 - accuracy: 0.9388 - val_loss: 0.4180 - val_accuracy: 0.9352\n",
      "Epoch 18/50\n",
      "75/75 [==============================] - 0s 4ms/step - loss: 0.4000 - accuracy: 0.9452 - val_loss: 0.3911 - val_accuracy: 0.9432\n",
      "Epoch 19/50\n",
      "75/75 [==============================] - 0s 4ms/step - loss: 0.3735 - accuracy: 0.9527 - val_loss: 0.3653 - val_accuracy: 0.9544\n",
      "Epoch 20/50\n",
      "75/75 [==============================] - 0s 4ms/step - loss: 0.3483 - accuracy: 0.9607 - val_loss: 0.3413 - val_accuracy: 0.9548\n",
      "Epoch 21/50\n",
      "75/75 [==============================] - 0s 4ms/step - loss: 0.3248 - accuracy: 0.9617 - val_loss: 0.3185 - val_accuracy: 0.9596\n",
      "Epoch 22/50\n",
      "75/75 [==============================] - 0s 5ms/step - loss: 0.3031 - accuracy: 0.9667 - val_loss: 0.2976 - val_accuracy: 0.9664\n",
      "Epoch 23/50\n",
      "75/75 [==============================] - 0s 5ms/step - loss: 0.2832 - accuracy: 0.9720 - val_loss: 0.2785 - val_accuracy: 0.9704\n",
      "Epoch 24/50\n",
      "75/75 [==============================] - 0s 3ms/step - loss: 0.2650 - accuracy: 0.9761 - val_loss: 0.2612 - val_accuracy: 0.9716\n",
      "Epoch 25/50\n",
      "75/75 [==============================] - 0s 4ms/step - loss: 0.2486 - accuracy: 0.9776 - val_loss: 0.2454 - val_accuracy: 0.9764\n",
      "Epoch 26/50\n",
      "75/75 [==============================] - 0s 4ms/step - loss: 0.2337 - accuracy: 0.9817 - val_loss: 0.2311 - val_accuracy: 0.9804\n",
      "Epoch 27/50\n",
      "75/75 [==============================] - 0s 4ms/step - loss: 0.2202 - accuracy: 0.9832 - val_loss: 0.2183 - val_accuracy: 0.9840\n",
      "Epoch 28/50\n",
      "75/75 [==============================] - 0s 4ms/step - loss: 0.2080 - accuracy: 0.9860 - val_loss: 0.2066 - val_accuracy: 0.9828\n",
      "Epoch 29/50\n",
      "75/75 [==============================] - 0s 4ms/step - loss: 0.1970 - accuracy: 0.9869 - val_loss: 0.1960 - val_accuracy: 0.9872\n",
      "Epoch 30/50\n",
      "75/75 [==============================] - 0s 4ms/step - loss: 0.1870 - accuracy: 0.9887 - val_loss: 0.1866 - val_accuracy: 0.9868\n",
      "Epoch 31/50\n",
      "75/75 [==============================] - 0s 4ms/step - loss: 0.1780 - accuracy: 0.9887 - val_loss: 0.1778 - val_accuracy: 0.9940\n",
      "Epoch 32/50\n",
      "75/75 [==============================] - 0s 4ms/step - loss: 0.1699 - accuracy: 0.9907 - val_loss: 0.1699 - val_accuracy: 0.9936\n",
      "Epoch 33/50\n",
      "75/75 [==============================] - 0s 4ms/step - loss: 0.1623 - accuracy: 0.9919 - val_loss: 0.1627 - val_accuracy: 0.9932\n",
      "Epoch 34/50\n",
      "75/75 [==============================] - 0s 4ms/step - loss: 0.1555 - accuracy: 0.9915 - val_loss: 0.1562 - val_accuracy: 0.9960\n",
      "Epoch 35/50\n",
      "75/75 [==============================] - 0s 4ms/step - loss: 0.1493 - accuracy: 0.9935 - val_loss: 0.1501 - val_accuracy: 0.9956\n",
      "Epoch 36/50\n",
      "75/75 [==============================] - 0s 5ms/step - loss: 0.1435 - accuracy: 0.9931 - val_loss: 0.1446 - val_accuracy: 0.9972\n",
      "Epoch 37/50\n",
      "75/75 [==============================] - 0s 5ms/step - loss: 0.1383 - accuracy: 0.9944 - val_loss: 0.1394 - val_accuracy: 0.9960\n",
      "Epoch 38/50\n",
      "75/75 [==============================] - 0s 6ms/step - loss: 0.1334 - accuracy: 0.9943 - val_loss: 0.1346 - val_accuracy: 0.9968\n",
      "Epoch 39/50\n",
      "75/75 [==============================] - 0s 6ms/step - loss: 0.1288 - accuracy: 0.9941 - val_loss: 0.1303 - val_accuracy: 0.9980\n",
      "Epoch 40/50\n",
      "75/75 [==============================] - 1s 10ms/step - loss: 0.1246 - accuracy: 0.9951 - val_loss: 0.1261 - val_accuracy: 0.9968\n",
      "Epoch 41/50\n",
      "75/75 [==============================] - 0s 6ms/step - loss: 0.1207 - accuracy: 0.9953 - val_loss: 0.1223 - val_accuracy: 0.9976\n",
      "Epoch 42/50\n",
      "75/75 [==============================] - 0s 4ms/step - loss: 0.1171 - accuracy: 0.9956 - val_loss: 0.1188 - val_accuracy: 0.9956\n",
      "Epoch 43/50\n",
      "75/75 [==============================] - 0s 4ms/step - loss: 0.1137 - accuracy: 0.9948 - val_loss: 0.1155 - val_accuracy: 0.9968\n",
      "Epoch 44/50\n",
      "75/75 [==============================] - 0s 5ms/step - loss: 0.1105 - accuracy: 0.9960 - val_loss: 0.1124 - val_accuracy: 0.9948\n",
      "Epoch 45/50\n",
      "75/75 [==============================] - 0s 5ms/step - loss: 0.1075 - accuracy: 0.9960 - val_loss: 0.1094 - val_accuracy: 0.9968\n",
      "Epoch 46/50\n",
      "75/75 [==============================] - 0s 6ms/step - loss: 0.1047 - accuracy: 0.9960 - val_loss: 0.1067 - val_accuracy: 0.9992\n",
      "Epoch 47/50\n",
      "75/75 [==============================] - 0s 4ms/step - loss: 0.1020 - accuracy: 0.9953 - val_loss: 0.1041 - val_accuracy: 0.9992\n",
      "Epoch 48/50\n",
      "75/75 [==============================] - 0s 4ms/step - loss: 0.0995 - accuracy: 0.9952 - val_loss: 0.1018 - val_accuracy: 0.9984\n",
      "Epoch 49/50\n",
      "75/75 [==============================] - 0s 4ms/step - loss: 0.0972 - accuracy: 0.9960 - val_loss: 0.0993 - val_accuracy: 0.9964\n",
      "Epoch 50/50\n",
      "75/75 [==============================] - 0s 4ms/step - loss: 0.0949 - accuracy: 0.9964 - val_loss: 0.0972 - val_accuracy: 0.9988\n"
     ]
    }
   ],
   "source": [
    "model = keras.Sequential()\n",
    "model.add(keras.layers.Dense(2, activation='relu', input_shape=[2]))\n",
    "model.add(keras.layers.Dense(2, activation='relu'))\n",
    "model.add(keras.layers.Dense(1, activation='sigmoid'))\n",
    "model.compile(loss=tf.keras.losses.BinaryCrossentropy(from_logits=True),\n",
    "              optimizer='sgd',\n",
    "              metrics=['accuracy'])\n",
    "history = model.fit(x_new, y_new, validation_split=0.25, epochs=50, batch_size=100)"
   ]
  },
  {
   "cell_type": "markdown",
   "metadata": {},
   "source": [
    "## Exercise: Maximum of 4 colors\n",
    "\n",
    "Implement a network that will receive 4 colors and has to select one of them.\n",
    "\n",
    "This will require a change of the labels (y) that now take values of 0, 1, 2 or 3. However, networks do not use labels in that form directly for multi class classification, but use 1-hot encoded or categorical data instead.\n",
    "\n",
    "In keras there is a function `keras.utils.to_categorical` that can be used for that.\n",
    "\n",
    "The last layer in the network should then no longer be sigmoid, but the softmax function. And we need the multiclass form of the crossentropy function, which in keras is called `categorical_crossentropy`.\n"
   ]
  },
  {
   "cell_type": "code",
   "execution_count": 27,
   "metadata": {},
   "outputs": [],
   "source": [
    "x_train= np.random.random(size=(5000,4))\n",
    "y_train_label = np.argmax(x_train, axis=1)\n"
   ]
  },
  {
   "cell_type": "markdown",
   "metadata": {},
   "source": [
    "## Exercise: Implement a ML Network to learn trump from features\n",
    "\n",
    "We would like to train a network to get the trump from some features. (We could use the cards directly, but this is deep learning and we will see more of that in next lesson :-) )\n",
    "\n",
    "As features we can use the number of cards of a color as before and some of the features from last lecture. For keras all input features should be floating point numbers. Also we need numpy arrays and not pandas. To get the array from a panda, the property `values` can be used."
   ]
  },
  {
   "cell_type": "code",
   "execution_count": 28,
   "metadata": {},
   "outputs": [
    {
     "ename": "FileNotFoundError",
     "evalue": "[Errno 2] No such file or directory: 'data\\\\2018_10_18_trump.csv'",
     "output_type": "error",
     "traceback": [
      "\u001b[1;31m---------------------------------------------------------------------------\u001b[0m",
      "\u001b[1;31mFileNotFoundError\u001b[0m                         Traceback (most recent call last)",
      "\u001b[1;32m~\\AppData\\Local\\Temp\\ipykernel_14124\\2890811208.py\u001b[0m in \u001b[0;36m<module>\u001b[1;34m\u001b[0m\n\u001b[0;32m      3\u001b[0m \u001b[0mpath_to_data\u001b[0m \u001b[1;33m=\u001b[0m \u001b[0mPath\u001b[0m\u001b[1;33m(\u001b[0m\u001b[1;34m'data'\u001b[0m\u001b[1;33m)\u001b[0m\u001b[1;33m\u001b[0m\u001b[1;33m\u001b[0m\u001b[0m\n\u001b[0;32m      4\u001b[0m \u001b[1;31m# Import only a fraction of data for efficient testing\u001b[0m\u001b[1;33m\u001b[0m\u001b[1;33m\u001b[0m\u001b[1;33m\u001b[0m\u001b[0m\n\u001b[1;32m----> 5\u001b[1;33m \u001b[0mdata\u001b[0m \u001b[1;33m=\u001b[0m \u001b[0mpd\u001b[0m\u001b[1;33m.\u001b[0m\u001b[0mread_csv\u001b[0m\u001b[1;33m(\u001b[0m\u001b[0mpath_to_data\u001b[0m \u001b[1;33m/\u001b[0m \u001b[1;34m'2018_10_18_trump.csv'\u001b[0m\u001b[1;33m,\u001b[0m \u001b[0mheader\u001b[0m\u001b[1;33m=\u001b[0m\u001b[1;32mNone\u001b[0m\u001b[1;33m,\u001b[0m \u001b[0mnrows\u001b[0m\u001b[1;33m=\u001b[0m\u001b[1;36m1000\u001b[0m\u001b[1;33m)\u001b[0m\u001b[1;33m\u001b[0m\u001b[1;33m\u001b[0m\u001b[0m\n\u001b[0m\u001b[0;32m      6\u001b[0m cards = [\n\u001b[0;32m      7\u001b[0m \u001b[1;31m# Diamonds\u001b[0m\u001b[1;33m\u001b[0m\u001b[1;33m\u001b[0m\u001b[1;33m\u001b[0m\u001b[0m\n",
      "\u001b[1;32mc:\\Users\\chatr\\Documents\\Studium\\7_Semester\\DL4G\\DL4G-HSLU\\venv\\lib\\site-packages\\pandas\\util\\_decorators.py\u001b[0m in \u001b[0;36mwrapper\u001b[1;34m(*args, **kwargs)\u001b[0m\n\u001b[0;32m    309\u001b[0m                     \u001b[0mstacklevel\u001b[0m\u001b[1;33m=\u001b[0m\u001b[0mstacklevel\u001b[0m\u001b[1;33m,\u001b[0m\u001b[1;33m\u001b[0m\u001b[1;33m\u001b[0m\u001b[0m\n\u001b[0;32m    310\u001b[0m                 )\n\u001b[1;32m--> 311\u001b[1;33m             \u001b[1;32mreturn\u001b[0m \u001b[0mfunc\u001b[0m\u001b[1;33m(\u001b[0m\u001b[1;33m*\u001b[0m\u001b[0margs\u001b[0m\u001b[1;33m,\u001b[0m \u001b[1;33m**\u001b[0m\u001b[0mkwargs\u001b[0m\u001b[1;33m)\u001b[0m\u001b[1;33m\u001b[0m\u001b[1;33m\u001b[0m\u001b[0m\n\u001b[0m\u001b[0;32m    312\u001b[0m \u001b[1;33m\u001b[0m\u001b[0m\n\u001b[0;32m    313\u001b[0m         \u001b[1;32mreturn\u001b[0m \u001b[0mwrapper\u001b[0m\u001b[1;33m\u001b[0m\u001b[1;33m\u001b[0m\u001b[0m\n",
      "\u001b[1;32mc:\\Users\\chatr\\Documents\\Studium\\7_Semester\\DL4G\\DL4G-HSLU\\venv\\lib\\site-packages\\pandas\\io\\parsers\\readers.py\u001b[0m in \u001b[0;36mread_csv\u001b[1;34m(filepath_or_buffer, sep, delimiter, header, names, index_col, usecols, squeeze, prefix, mangle_dupe_cols, dtype, engine, converters, true_values, false_values, skipinitialspace, skiprows, skipfooter, nrows, na_values, keep_default_na, na_filter, verbose, skip_blank_lines, parse_dates, infer_datetime_format, keep_date_col, date_parser, dayfirst, cache_dates, iterator, chunksize, compression, thousands, decimal, lineterminator, quotechar, quoting, doublequote, escapechar, comment, encoding, encoding_errors, dialect, error_bad_lines, warn_bad_lines, on_bad_lines, delim_whitespace, low_memory, memory_map, float_precision, storage_options)\u001b[0m\n\u001b[0;32m    584\u001b[0m     \u001b[0mkwds\u001b[0m\u001b[1;33m.\u001b[0m\u001b[0mupdate\u001b[0m\u001b[1;33m(\u001b[0m\u001b[0mkwds_defaults\u001b[0m\u001b[1;33m)\u001b[0m\u001b[1;33m\u001b[0m\u001b[1;33m\u001b[0m\u001b[0m\n\u001b[0;32m    585\u001b[0m \u001b[1;33m\u001b[0m\u001b[0m\n\u001b[1;32m--> 586\u001b[1;33m     \u001b[1;32mreturn\u001b[0m \u001b[0m_read\u001b[0m\u001b[1;33m(\u001b[0m\u001b[0mfilepath_or_buffer\u001b[0m\u001b[1;33m,\u001b[0m \u001b[0mkwds\u001b[0m\u001b[1;33m)\u001b[0m\u001b[1;33m\u001b[0m\u001b[1;33m\u001b[0m\u001b[0m\n\u001b[0m\u001b[0;32m    587\u001b[0m \u001b[1;33m\u001b[0m\u001b[0m\n\u001b[0;32m    588\u001b[0m \u001b[1;33m\u001b[0m\u001b[0m\n",
      "\u001b[1;32mc:\\Users\\chatr\\Documents\\Studium\\7_Semester\\DL4G\\DL4G-HSLU\\venv\\lib\\site-packages\\pandas\\io\\parsers\\readers.py\u001b[0m in \u001b[0;36m_read\u001b[1;34m(filepath_or_buffer, kwds)\u001b[0m\n\u001b[0;32m    480\u001b[0m \u001b[1;33m\u001b[0m\u001b[0m\n\u001b[0;32m    481\u001b[0m     \u001b[1;31m# Create the parser.\u001b[0m\u001b[1;33m\u001b[0m\u001b[1;33m\u001b[0m\u001b[1;33m\u001b[0m\u001b[0m\n\u001b[1;32m--> 482\u001b[1;33m     \u001b[0mparser\u001b[0m \u001b[1;33m=\u001b[0m \u001b[0mTextFileReader\u001b[0m\u001b[1;33m(\u001b[0m\u001b[0mfilepath_or_buffer\u001b[0m\u001b[1;33m,\u001b[0m \u001b[1;33m**\u001b[0m\u001b[0mkwds\u001b[0m\u001b[1;33m)\u001b[0m\u001b[1;33m\u001b[0m\u001b[1;33m\u001b[0m\u001b[0m\n\u001b[0m\u001b[0;32m    483\u001b[0m \u001b[1;33m\u001b[0m\u001b[0m\n\u001b[0;32m    484\u001b[0m     \u001b[1;32mif\u001b[0m \u001b[0mchunksize\u001b[0m \u001b[1;32mor\u001b[0m \u001b[0miterator\u001b[0m\u001b[1;33m:\u001b[0m\u001b[1;33m\u001b[0m\u001b[1;33m\u001b[0m\u001b[0m\n",
      "\u001b[1;32mc:\\Users\\chatr\\Documents\\Studium\\7_Semester\\DL4G\\DL4G-HSLU\\venv\\lib\\site-packages\\pandas\\io\\parsers\\readers.py\u001b[0m in \u001b[0;36m__init__\u001b[1;34m(self, f, engine, **kwds)\u001b[0m\n\u001b[0;32m    809\u001b[0m             \u001b[0mself\u001b[0m\u001b[1;33m.\u001b[0m\u001b[0moptions\u001b[0m\u001b[1;33m[\u001b[0m\u001b[1;34m\"has_index_names\"\u001b[0m\u001b[1;33m]\u001b[0m \u001b[1;33m=\u001b[0m \u001b[0mkwds\u001b[0m\u001b[1;33m[\u001b[0m\u001b[1;34m\"has_index_names\"\u001b[0m\u001b[1;33m]\u001b[0m\u001b[1;33m\u001b[0m\u001b[1;33m\u001b[0m\u001b[0m\n\u001b[0;32m    810\u001b[0m \u001b[1;33m\u001b[0m\u001b[0m\n\u001b[1;32m--> 811\u001b[1;33m         \u001b[0mself\u001b[0m\u001b[1;33m.\u001b[0m\u001b[0m_engine\u001b[0m \u001b[1;33m=\u001b[0m \u001b[0mself\u001b[0m\u001b[1;33m.\u001b[0m\u001b[0m_make_engine\u001b[0m\u001b[1;33m(\u001b[0m\u001b[0mself\u001b[0m\u001b[1;33m.\u001b[0m\u001b[0mengine\u001b[0m\u001b[1;33m)\u001b[0m\u001b[1;33m\u001b[0m\u001b[1;33m\u001b[0m\u001b[0m\n\u001b[0m\u001b[0;32m    812\u001b[0m \u001b[1;33m\u001b[0m\u001b[0m\n\u001b[0;32m    813\u001b[0m     \u001b[1;32mdef\u001b[0m \u001b[0mclose\u001b[0m\u001b[1;33m(\u001b[0m\u001b[0mself\u001b[0m\u001b[1;33m)\u001b[0m\u001b[1;33m:\u001b[0m\u001b[1;33m\u001b[0m\u001b[1;33m\u001b[0m\u001b[0m\n",
      "\u001b[1;32mc:\\Users\\chatr\\Documents\\Studium\\7_Semester\\DL4G\\DL4G-HSLU\\venv\\lib\\site-packages\\pandas\\io\\parsers\\readers.py\u001b[0m in \u001b[0;36m_make_engine\u001b[1;34m(self, engine)\u001b[0m\n\u001b[0;32m   1038\u001b[0m             )\n\u001b[0;32m   1039\u001b[0m         \u001b[1;31m# error: Too many arguments for \"ParserBase\"\u001b[0m\u001b[1;33m\u001b[0m\u001b[1;33m\u001b[0m\u001b[1;33m\u001b[0m\u001b[0m\n\u001b[1;32m-> 1040\u001b[1;33m         \u001b[1;32mreturn\u001b[0m \u001b[0mmapping\u001b[0m\u001b[1;33m[\u001b[0m\u001b[0mengine\u001b[0m\u001b[1;33m]\u001b[0m\u001b[1;33m(\u001b[0m\u001b[0mself\u001b[0m\u001b[1;33m.\u001b[0m\u001b[0mf\u001b[0m\u001b[1;33m,\u001b[0m \u001b[1;33m**\u001b[0m\u001b[0mself\u001b[0m\u001b[1;33m.\u001b[0m\u001b[0moptions\u001b[0m\u001b[1;33m)\u001b[0m  \u001b[1;31m# type: ignore[call-arg]\u001b[0m\u001b[1;33m\u001b[0m\u001b[1;33m\u001b[0m\u001b[0m\n\u001b[0m\u001b[0;32m   1041\u001b[0m \u001b[1;33m\u001b[0m\u001b[0m\n\u001b[0;32m   1042\u001b[0m     \u001b[1;32mdef\u001b[0m \u001b[0m_failover_to_python\u001b[0m\u001b[1;33m(\u001b[0m\u001b[0mself\u001b[0m\u001b[1;33m)\u001b[0m\u001b[1;33m:\u001b[0m\u001b[1;33m\u001b[0m\u001b[1;33m\u001b[0m\u001b[0m\n",
      "\u001b[1;32mc:\\Users\\chatr\\Documents\\Studium\\7_Semester\\DL4G\\DL4G-HSLU\\venv\\lib\\site-packages\\pandas\\io\\parsers\\c_parser_wrapper.py\u001b[0m in \u001b[0;36m__init__\u001b[1;34m(self, src, **kwds)\u001b[0m\n\u001b[0;32m     49\u001b[0m \u001b[1;33m\u001b[0m\u001b[0m\n\u001b[0;32m     50\u001b[0m         \u001b[1;31m# open handles\u001b[0m\u001b[1;33m\u001b[0m\u001b[1;33m\u001b[0m\u001b[1;33m\u001b[0m\u001b[0m\n\u001b[1;32m---> 51\u001b[1;33m         \u001b[0mself\u001b[0m\u001b[1;33m.\u001b[0m\u001b[0m_open_handles\u001b[0m\u001b[1;33m(\u001b[0m\u001b[0msrc\u001b[0m\u001b[1;33m,\u001b[0m \u001b[0mkwds\u001b[0m\u001b[1;33m)\u001b[0m\u001b[1;33m\u001b[0m\u001b[1;33m\u001b[0m\u001b[0m\n\u001b[0m\u001b[0;32m     52\u001b[0m         \u001b[1;32massert\u001b[0m \u001b[0mself\u001b[0m\u001b[1;33m.\u001b[0m\u001b[0mhandles\u001b[0m \u001b[1;32mis\u001b[0m \u001b[1;32mnot\u001b[0m \u001b[1;32mNone\u001b[0m\u001b[1;33m\u001b[0m\u001b[1;33m\u001b[0m\u001b[0m\n\u001b[0;32m     53\u001b[0m \u001b[1;33m\u001b[0m\u001b[0m\n",
      "\u001b[1;32mc:\\Users\\chatr\\Documents\\Studium\\7_Semester\\DL4G\\DL4G-HSLU\\venv\\lib\\site-packages\\pandas\\io\\parsers\\base_parser.py\u001b[0m in \u001b[0;36m_open_handles\u001b[1;34m(self, src, kwds)\u001b[0m\n\u001b[0;32m    227\u001b[0m             \u001b[0mmemory_map\u001b[0m\u001b[1;33m=\u001b[0m\u001b[0mkwds\u001b[0m\u001b[1;33m.\u001b[0m\u001b[0mget\u001b[0m\u001b[1;33m(\u001b[0m\u001b[1;34m\"memory_map\"\u001b[0m\u001b[1;33m,\u001b[0m \u001b[1;32mFalse\u001b[0m\u001b[1;33m)\u001b[0m\u001b[1;33m,\u001b[0m\u001b[1;33m\u001b[0m\u001b[1;33m\u001b[0m\u001b[0m\n\u001b[0;32m    228\u001b[0m             \u001b[0mstorage_options\u001b[0m\u001b[1;33m=\u001b[0m\u001b[0mkwds\u001b[0m\u001b[1;33m.\u001b[0m\u001b[0mget\u001b[0m\u001b[1;33m(\u001b[0m\u001b[1;34m\"storage_options\"\u001b[0m\u001b[1;33m,\u001b[0m \u001b[1;32mNone\u001b[0m\u001b[1;33m)\u001b[0m\u001b[1;33m,\u001b[0m\u001b[1;33m\u001b[0m\u001b[1;33m\u001b[0m\u001b[0m\n\u001b[1;32m--> 229\u001b[1;33m             \u001b[0merrors\u001b[0m\u001b[1;33m=\u001b[0m\u001b[0mkwds\u001b[0m\u001b[1;33m.\u001b[0m\u001b[0mget\u001b[0m\u001b[1;33m(\u001b[0m\u001b[1;34m\"encoding_errors\"\u001b[0m\u001b[1;33m,\u001b[0m \u001b[1;34m\"strict\"\u001b[0m\u001b[1;33m)\u001b[0m\u001b[1;33m,\u001b[0m\u001b[1;33m\u001b[0m\u001b[1;33m\u001b[0m\u001b[0m\n\u001b[0m\u001b[0;32m    230\u001b[0m         )\n\u001b[0;32m    231\u001b[0m \u001b[1;33m\u001b[0m\u001b[0m\n",
      "\u001b[1;32mc:\\Users\\chatr\\Documents\\Studium\\7_Semester\\DL4G\\DL4G-HSLU\\venv\\lib\\site-packages\\pandas\\io\\common.py\u001b[0m in \u001b[0;36mget_handle\u001b[1;34m(path_or_buf, mode, encoding, compression, memory_map, is_text, errors, storage_options)\u001b[0m\n\u001b[0;32m    705\u001b[0m                 \u001b[0mencoding\u001b[0m\u001b[1;33m=\u001b[0m\u001b[0mioargs\u001b[0m\u001b[1;33m.\u001b[0m\u001b[0mencoding\u001b[0m\u001b[1;33m,\u001b[0m\u001b[1;33m\u001b[0m\u001b[1;33m\u001b[0m\u001b[0m\n\u001b[0;32m    706\u001b[0m                 \u001b[0merrors\u001b[0m\u001b[1;33m=\u001b[0m\u001b[0merrors\u001b[0m\u001b[1;33m,\u001b[0m\u001b[1;33m\u001b[0m\u001b[1;33m\u001b[0m\u001b[0m\n\u001b[1;32m--> 707\u001b[1;33m                 \u001b[0mnewline\u001b[0m\u001b[1;33m=\u001b[0m\u001b[1;34m\"\"\u001b[0m\u001b[1;33m,\u001b[0m\u001b[1;33m\u001b[0m\u001b[1;33m\u001b[0m\u001b[0m\n\u001b[0m\u001b[0;32m    708\u001b[0m             )\n\u001b[0;32m    709\u001b[0m         \u001b[1;32melse\u001b[0m\u001b[1;33m:\u001b[0m\u001b[1;33m\u001b[0m\u001b[1;33m\u001b[0m\u001b[0m\n",
      "\u001b[1;31mFileNotFoundError\u001b[0m: [Errno 2] No such file or directory: 'data\\\\2018_10_18_trump.csv'"
     ]
    }
   ],
   "source": [
    "import pandas as pd\n",
    "from pathlib import Path\n",
    "path_to_data = Path('data')\n",
    "# Import only a fraction of data for efficient testing\n",
    "data = pd.read_csv(path_to_data / '2018_10_18_trump.csv', header=None, nrows=1000)\n",
    "cards = [\n",
    "# Diamonds\n",
    "'DA','DK','DQ','DJ','D10','D9','D8','D7','D6',\n",
    "# Hearts\n",
    "'HA','HK','HQ','HJ','H10','H9','H8','H7','H6',\n",
    "# Spades\n",
    "'SA','SK','SQ','SJ','S10','S9','S8','S7','S6',\n",
    "# Clubs\n",
    "'CA','CK','CQ','CJ','C10','C9','C8','C7','C6'\n",
    "]\n",
    "\n",
    "# Forehand (yes = 1, no = 0)\n",
    "forehand = ['FH']\n",
    "\n",
    "user  = ['user']\n",
    "trump = ['trump']\n",
    "\n",
    "data.columns = cards + forehand + user + trump\n",
    "data.drop('user', axis='columns', inplace=True)\n",
    "data.head()\n",
    "\n"
   ]
  },
  {
   "cell_type": "markdown",
   "metadata": {},
   "source": [
    "Continue as follows:\n",
    "- Calculate features, \n",
    "- add them to the data set\n",
    "- drop the columns not used\n",
    "- convert to numpy array\n",
    "- build a network and train"
   ]
  },
  {
   "cell_type": "code",
   "execution_count": null,
   "metadata": {},
   "outputs": [],
   "source": []
  }
 ],
 "metadata": {
  "kernelspec": {
   "display_name": "Python 3.7.9 ('venv': venv)",
   "language": "python",
   "name": "python3"
  },
  "language_info": {
   "codemirror_mode": {
    "name": "ipython",
    "version": 3
   },
   "file_extension": ".py",
   "mimetype": "text/x-python",
   "name": "python",
   "nbconvert_exporter": "python",
   "pygments_lexer": "ipython3",
   "version": "3.7.9"
  },
  "vscode": {
   "interpreter": {
    "hash": "25b73b68d3ceafcab4de61972efea984bd2c530a340282568fa7d84862b8d92d"
   }
  }
 },
 "nbformat": 4,
 "nbformat_minor": 2
}
